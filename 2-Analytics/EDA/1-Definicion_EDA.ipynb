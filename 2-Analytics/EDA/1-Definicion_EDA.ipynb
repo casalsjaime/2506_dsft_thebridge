{
 "cells": [
  {
   "cell_type": "markdown",
   "metadata": {},
   "source": [
    "![imagen](./img/ejercicios.png)"
   ]
  },
  {
   "cell_type": "markdown",
   "metadata": {},
   "source": [
    "# INFORMACIÓN DEL PROYECTO"
   ]
  },
  {
   "cell_type": "markdown",
   "metadata": {},
   "source": [
    "### TÍTULO"
   ]
  },
  {
   "cell_type": "markdown",
   "metadata": {},
   "source": [
    "ANÁLISIS EXPLORATORIO DE LA DISTRIBUCIÓN DE INSTALACIONES DEPORTIVAS EN MADRID"
   ]
  },
  {
   "cell_type": "markdown",
   "metadata": {},
   "source": [
    "### TEMA"
   ]
  },
  {
   "cell_type": "markdown",
   "metadata": {},
   "source": [
    "Este análisis explora cómo se distribuyen las instalaciones deportivas en Madrid y su relación con la población y la renta de cada distrito. El objetivo es detectar posibles desigualdades en el acceso al deporte.\n",
    "\n"
   ]
  },
  {
   "cell_type": "markdown",
   "metadata": {},
   "source": [
    "### HIPÓTESIS"
   ]
  },
  {
   "cell_type": "markdown",
   "metadata": {},
   "source": [
    "Define aquí lo que será la hipótesis de tu proyecto.\n",
    "Deberás tener más de una, pero tu proyecto lo harás teniendo una principal hipótesis."
   ]
  },
  {
   "cell_type": "markdown",
   "metadata": {},
   "source": [
    "Los distritos con mayor renta media por persona disponen de un mayor número de instalaciones deportivas públicas."
   ]
  },
  {
   "cell_type": "markdown",
   "metadata": {},
   "source": [
    "**🔹 HIPÓTESIS 1 :**\n",
    "\n",
    "A mayor población total, mayor número de instalaciones deportivas.\n",
    "\n",
    "**🔹 HIPÓTESIS 2 :**\n",
    "\n",
    "A mayor renta per cápita, mayor número de instalaciones.\n",
    "\n",
    "**🔹 HIPÓTESIS 3 :**\n",
    "\n",
    "El número de instalaciones por habitante es menor en distritos más poblados.\n",
    "\n",
    "**🔹 HIPÓTESIS 4 :**\n",
    "\n",
    "Existe una diferencia significativa entre el porcentaje de instalaciones con el sexo.\n",
    "\n",
    "\n"
   ]
  },
  {
   "cell_type": "markdown",
   "metadata": {},
   "source": [
    "## OBTENCIÓN DE LOS DATOS"
   ]
  },
  {
   "cell_type": "markdown",
   "metadata": {},
   "source": [
    "### DATASETS Y FUENTES ALTERNATIVAS DE DATOS"
   ]
  },
  {
   "cell_type": "markdown",
   "metadata": {},
   "source": [
    "Incluye aquí una vista del dataset o datasets de los que partirás para poder evaluar tu hipótesis. <br>\n",
    "También incluye el origen de estos datos y su fuente."
   ]
  },
  {
   "cell_type": "code",
   "execution_count": null,
   "metadata": {},
   "outputs": [],
   "source": [
    "import pandas as pd\n",
    "import matplotlib.pyplot as plt\n",
    "import seaborn as sns\n",
    "\n",
    "# Instalaciones deportivas\n",
    "url_instalaciones = \"https://datos.madrid.es/egob/catalogo/200215-0-instalaciones-deportivas.csv\"\n",
    "df_instalaciones = pd.read_csv(url_instalaciones, sep=';', encoding='latin1', on_bad_lines='skip')\n",
    "\n",
    "# Población por distrito \n",
    "url_pob_madrid = 'C:\\\\Users\\\\Poltatil\\\\Downloads\\\\poblacion_1_enero.csv'\n",
    "df_pob_madrid = pd.read_csv(url_pob_madrid, sep=';', encoding='utf-8', thousands='.', decimal=',')\n",
    "\n",
    "url_irp = \"C:\\\\Users\\\\Poltatil\\\\Downloads\\\\31097.csv\"\n",
    "df_renta_persona = pd.read_csv(url_irp, sep='\\t', encoding='utf-8', thousands='.', decimal=',')"
   ]
  },
  {
   "cell_type": "markdown",
   "metadata": {},
   "source": [
    "Muestra mediante un head() los principales datasets con los que vas a trabajar"
   ]
  },
  {
   "cell_type": "code",
   "execution_count": null,
   "metadata": {},
   "outputs": [],
   "source": [
    "df_instalaciones.head()"
   ]
  },
  {
   "cell_type": "code",
   "execution_count": null,
   "metadata": {},
   "outputs": [],
   "source": [
    "url_pob_madrid.head()"
   ]
  },
  {
   "cell_type": "code",
   "execution_count": null,
   "metadata": {},
   "outputs": [],
   "source": [
    "url_irp.head()"
   ]
  }
 ],
 "metadata": {
  "kernelspec": {
   "display_name": "Python 3.7.4 64-bit",
   "language": "python",
   "name": "python3"
  },
  "language_info": {
   "codemirror_mode": {
    "name": "ipython",
    "version": 3
   },
   "file_extension": ".py",
   "mimetype": "text/x-python",
   "name": "python",
   "nbconvert_exporter": "python",
   "pygments_lexer": "ipython3",
   "version": "3.7.4"
  },
  "orig_nbformat": 4,
  "vscode": {
   "interpreter": {
    "hash": "90139cb9a825bf3d63f6f6704e828dbd1ff7edbd4d0c6e906a71235d6efc74af"
   }
  }
 },
 "nbformat": 4,
 "nbformat_minor": 2
}
