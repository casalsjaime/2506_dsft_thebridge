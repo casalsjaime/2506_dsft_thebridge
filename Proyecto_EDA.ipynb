{
 "cells": [
  {
   "cell_type": "code",
   "execution_count": 93,
   "id": "113acfbb",
   "metadata": {},
   "outputs": [],
   "source": [
    "import pandas as pd\n",
    "import matplotlib.pyplot as plt\n",
    "import seaborn as sns\n",
    "\n",
    "# Instalaciones deportivas\n",
    "url_instalaciones = \"https://datos.madrid.es/egob/catalogo/200215-0-instalaciones-deportivas.csv\"\n",
    "df_instalaciones = pd.read_csv(url_instalaciones, sep=';', encoding='latin1', on_bad_lines='skip')\n",
    "\n",
    "# Población por distrito \n",
    "url_pob_madrid = 'C:\\\\Users\\\\Poltatil\\\\Downloads\\\\poblacion_1_enero.csv'\n",
    "df_pob_madrid = pd.read_csv(url_pob_madrid, sep=';', encoding='utf-8', thousands='.', decimal=',')\n",
    "\n",
    "url_irp = \"C:\\\\Users\\\\Poltatil\\\\Downloads\\\\31097.csv\"\n",
    "df_renta_persona = pd.read_csv(url_irp, sep='\\t', encoding='utf-8', thousands='.', decimal=',')\n",
    "\n",
    "\n",
    "\n",
    "\n",
    "\n",
    "\n"
   ]
  },
  {
   "cell_type": "code",
   "execution_count": 94,
   "id": "109717da",
   "metadata": {},
   "outputs": [
    {
     "data": {
      "text/html": [
       "<div>\n",
       "<style scoped>\n",
       "    .dataframe tbody tr th:only-of-type {\n",
       "        vertical-align: middle;\n",
       "    }\n",
       "\n",
       "    .dataframe tbody tr th {\n",
       "        vertical-align: top;\n",
       "    }\n",
       "\n",
       "    .dataframe thead th {\n",
       "        text-align: right;\n",
       "    }\n",
       "</style>\n",
       "<table border=\"1\" class=\"dataframe\">\n",
       "  <thead>\n",
       "    <tr style=\"text-align: right;\">\n",
       "      <th></th>\n",
       "      <th>distrito</th>\n",
       "      <th>num_personas</th>\n",
       "      <th>num_personas_hombres</th>\n",
       "      <th>num_personas_mujeres</th>\n",
       "    </tr>\n",
       "  </thead>\n",
       "  <tbody>\n",
       "    <tr>\n",
       "      <th>0</th>\n",
       "      <td>Arganzuela</td>\n",
       "      <td>2158282</td>\n",
       "      <td>1007602</td>\n",
       "      <td>1150680</td>\n",
       "    </tr>\n",
       "    <tr>\n",
       "      <th>1</th>\n",
       "      <td>Barajas</td>\n",
       "      <td>687114</td>\n",
       "      <td>331106</td>\n",
       "      <td>356008</td>\n",
       "    </tr>\n",
       "    <tr>\n",
       "      <th>2</th>\n",
       "      <td>Carabanchel</td>\n",
       "      <td>3624696</td>\n",
       "      <td>1692508</td>\n",
       "      <td>1932188</td>\n",
       "    </tr>\n",
       "    <tr>\n",
       "      <th>3</th>\n",
       "      <td>Centro</td>\n",
       "      <td>1947444</td>\n",
       "      <td>985294</td>\n",
       "      <td>962150</td>\n",
       "    </tr>\n",
       "    <tr>\n",
       "      <th>4</th>\n",
       "      <td>Chamartín</td>\n",
       "      <td>2042576</td>\n",
       "      <td>919834</td>\n",
       "      <td>1122742</td>\n",
       "    </tr>\n",
       "    <tr>\n",
       "      <th>5</th>\n",
       "      <td>Chamberí</td>\n",
       "      <td>1949748</td>\n",
       "      <td>861032</td>\n",
       "      <td>1088716</td>\n",
       "    </tr>\n",
       "    <tr>\n",
       "      <th>6</th>\n",
       "      <td>Ciudad Lineal</td>\n",
       "      <td>3063406</td>\n",
       "      <td>1396206</td>\n",
       "      <td>1667200</td>\n",
       "    </tr>\n",
       "    <tr>\n",
       "      <th>7</th>\n",
       "      <td>Fuencarral-El Pardo</td>\n",
       "      <td>3470472</td>\n",
       "      <td>1634020</td>\n",
       "      <td>1836452</td>\n",
       "    </tr>\n",
       "    <tr>\n",
       "      <th>8</th>\n",
       "      <td>Hortaleza</td>\n",
       "      <td>2714558</td>\n",
       "      <td>1287920</td>\n",
       "      <td>1426638</td>\n",
       "    </tr>\n",
       "    <tr>\n",
       "      <th>9</th>\n",
       "      <td>Latina</td>\n",
       "      <td>3370698</td>\n",
       "      <td>1563484</td>\n",
       "      <td>1807214</td>\n",
       "    </tr>\n",
       "    <tr>\n",
       "      <th>10</th>\n",
       "      <td>Moncloa-Aravaca</td>\n",
       "      <td>1694230</td>\n",
       "      <td>781438</td>\n",
       "      <td>912792</td>\n",
       "    </tr>\n",
       "    <tr>\n",
       "      <th>11</th>\n",
       "      <td>Moratalaz</td>\n",
       "      <td>1317242</td>\n",
       "      <td>600756</td>\n",
       "      <td>716486</td>\n",
       "    </tr>\n",
       "    <tr>\n",
       "      <th>12</th>\n",
       "      <td>Puente de Vallecas</td>\n",
       "      <td>3350942</td>\n",
       "      <td>1589274</td>\n",
       "      <td>1761668</td>\n",
       "    </tr>\n",
       "    <tr>\n",
       "      <th>13</th>\n",
       "      <td>Retiro</td>\n",
       "      <td>1665400</td>\n",
       "      <td>755040</td>\n",
       "      <td>910360</td>\n",
       "    </tr>\n",
       "    <tr>\n",
       "      <th>14</th>\n",
       "      <td>Salamanca</td>\n",
       "      <td>2052446</td>\n",
       "      <td>906528</td>\n",
       "      <td>1145918</td>\n",
       "    </tr>\n",
       "    <tr>\n",
       "      <th>15</th>\n",
       "      <td>San Blas-Canillejas</td>\n",
       "      <td>2244760</td>\n",
       "      <td>1061528</td>\n",
       "      <td>1183232</td>\n",
       "    </tr>\n",
       "    <tr>\n",
       "      <th>16</th>\n",
       "      <td>Tetuán</td>\n",
       "      <td>2237424</td>\n",
       "      <td>1018226</td>\n",
       "      <td>1219198</td>\n",
       "    </tr>\n",
       "    <tr>\n",
       "      <th>17</th>\n",
       "      <td>Usera</td>\n",
       "      <td>1988988</td>\n",
       "      <td>939620</td>\n",
       "      <td>1049368</td>\n",
       "    </tr>\n",
       "    <tr>\n",
       "      <th>18</th>\n",
       "      <td>Vicálvaro</td>\n",
       "      <td>1091050</td>\n",
       "      <td>528216</td>\n",
       "      <td>562834</td>\n",
       "    </tr>\n",
       "    <tr>\n",
       "      <th>19</th>\n",
       "      <td>Villa de Vallecas</td>\n",
       "      <td>1603970</td>\n",
       "      <td>777204</td>\n",
       "      <td>826766</td>\n",
       "    </tr>\n",
       "    <tr>\n",
       "      <th>20</th>\n",
       "      <td>Villaverde</td>\n",
       "      <td>2168702</td>\n",
       "      <td>1036894</td>\n",
       "      <td>1131808</td>\n",
       "    </tr>\n",
       "    <tr>\n",
       "      <th>21</th>\n",
       "      <td>Todos</td>\n",
       "      <td>23222074</td>\n",
       "      <td>10836865</td>\n",
       "      <td>12385209</td>\n",
       "    </tr>\n",
       "  </tbody>\n",
       "</table>\n",
       "</div>"
      ],
      "text/plain": [
       "                distrito  num_personas  num_personas_hombres  \\\n",
       "0             Arganzuela       2158282               1007602   \n",
       "1                Barajas        687114                331106   \n",
       "2            Carabanchel       3624696               1692508   \n",
       "3                 Centro       1947444                985294   \n",
       "4              Chamartín       2042576                919834   \n",
       "5               Chamberí       1949748                861032   \n",
       "6          Ciudad Lineal       3063406               1396206   \n",
       "7    Fuencarral-El Pardo       3470472               1634020   \n",
       "8              Hortaleza       2714558               1287920   \n",
       "9                 Latina       3370698               1563484   \n",
       "10       Moncloa-Aravaca       1694230                781438   \n",
       "11             Moratalaz       1317242                600756   \n",
       "12    Puente de Vallecas       3350942               1589274   \n",
       "13                Retiro       1665400                755040   \n",
       "14             Salamanca       2052446                906528   \n",
       "15   San Blas-Canillejas       2244760               1061528   \n",
       "16                Tetuán       2237424               1018226   \n",
       "17                 Usera       1988988                939620   \n",
       "18             Vicálvaro       1091050                528216   \n",
       "19     Villa de Vallecas       1603970                777204   \n",
       "20            Villaverde       2168702               1036894   \n",
       "21                 Todos      23222074              10836865   \n",
       "\n",
       "    num_personas_mujeres  \n",
       "0                1150680  \n",
       "1                 356008  \n",
       "2                1932188  \n",
       "3                 962150  \n",
       "4                1122742  \n",
       "5                1088716  \n",
       "6                1667200  \n",
       "7                1836452  \n",
       "8                1426638  \n",
       "9                1807214  \n",
       "10                912792  \n",
       "11                716486  \n",
       "12               1761668  \n",
       "13                910360  \n",
       "14               1145918  \n",
       "15               1183232  \n",
       "16               1219198  \n",
       "17               1049368  \n",
       "18                562834  \n",
       "19                826766  \n",
       "20               1131808  \n",
       "21              12385209  "
      ]
     },
     "execution_count": 94,
     "metadata": {},
     "output_type": "execute_result"
    }
   ],
   "source": [
    "\n",
    "df_pob_madrid.drop(columns=['fecha'])\n",
    "df_pob_madrid.isna().sum()\n",
    "df_pob_madrid_agrupado = df_pob_madrid.drop(columns=['fecha', 'barrio'])\n",
    "df_pob_madrid_agrupado\n",
    "\n",
    "poblacion_madrid = df_pob_madrid_agrupado.groupby('distrito')[['num_personas', 'num_personas_hombres', 'num_personas_mujeres']].sum().reset_index()\n",
    "poblacion_madrid"
   ]
  },
  {
   "cell_type": "code",
   "execution_count": 95,
   "id": "67d83a9a",
   "metadata": {},
   "outputs": [],
   "source": [
    "cols = ['num_personas', 'num_personas_hombres', 'num_personas_mujeres']\n",
    "poblacion_madrid[cols] = poblacion_madrid[cols] / 1000"
   ]
  },
  {
   "cell_type": "code",
   "execution_count": 96,
   "id": "54356501",
   "metadata": {},
   "outputs": [
    {
     "data": {
      "text/html": [
       "<div>\n",
       "<style scoped>\n",
       "    .dataframe tbody tr th:only-of-type {\n",
       "        vertical-align: middle;\n",
       "    }\n",
       "\n",
       "    .dataframe tbody tr th {\n",
       "        vertical-align: top;\n",
       "    }\n",
       "\n",
       "    .dataframe thead th {\n",
       "        text-align: right;\n",
       "    }\n",
       "</style>\n",
       "<table border=\"1\" class=\"dataframe\">\n",
       "  <thead>\n",
       "    <tr style=\"text-align: right;\">\n",
       "      <th></th>\n",
       "      <th>distrito</th>\n",
       "      <th>num_personas</th>\n",
       "      <th>num_personas_hombres</th>\n",
       "      <th>num_personas_mujeres</th>\n",
       "    </tr>\n",
       "  </thead>\n",
       "  <tbody>\n",
       "    <tr>\n",
       "      <th>0</th>\n",
       "      <td>Arganzuela</td>\n",
       "      <td>2158.282</td>\n",
       "      <td>1007.602</td>\n",
       "      <td>1150.680</td>\n",
       "    </tr>\n",
       "    <tr>\n",
       "      <th>1</th>\n",
       "      <td>Barajas</td>\n",
       "      <td>687.114</td>\n",
       "      <td>331.106</td>\n",
       "      <td>356.008</td>\n",
       "    </tr>\n",
       "    <tr>\n",
       "      <th>2</th>\n",
       "      <td>Carabanchel</td>\n",
       "      <td>3624.696</td>\n",
       "      <td>1692.508</td>\n",
       "      <td>1932.188</td>\n",
       "    </tr>\n",
       "    <tr>\n",
       "      <th>3</th>\n",
       "      <td>Centro</td>\n",
       "      <td>1947.444</td>\n",
       "      <td>985.294</td>\n",
       "      <td>962.150</td>\n",
       "    </tr>\n",
       "    <tr>\n",
       "      <th>4</th>\n",
       "      <td>Chamartín</td>\n",
       "      <td>2042.576</td>\n",
       "      <td>919.834</td>\n",
       "      <td>1122.742</td>\n",
       "    </tr>\n",
       "    <tr>\n",
       "      <th>5</th>\n",
       "      <td>Chamberí</td>\n",
       "      <td>1949.748</td>\n",
       "      <td>861.032</td>\n",
       "      <td>1088.716</td>\n",
       "    </tr>\n",
       "    <tr>\n",
       "      <th>6</th>\n",
       "      <td>Ciudad Lineal</td>\n",
       "      <td>3063.406</td>\n",
       "      <td>1396.206</td>\n",
       "      <td>1667.200</td>\n",
       "    </tr>\n",
       "    <tr>\n",
       "      <th>7</th>\n",
       "      <td>Fuencarral-El Pardo</td>\n",
       "      <td>3470.472</td>\n",
       "      <td>1634.020</td>\n",
       "      <td>1836.452</td>\n",
       "    </tr>\n",
       "    <tr>\n",
       "      <th>8</th>\n",
       "      <td>Hortaleza</td>\n",
       "      <td>2714.558</td>\n",
       "      <td>1287.920</td>\n",
       "      <td>1426.638</td>\n",
       "    </tr>\n",
       "    <tr>\n",
       "      <th>9</th>\n",
       "      <td>Latina</td>\n",
       "      <td>3370.698</td>\n",
       "      <td>1563.484</td>\n",
       "      <td>1807.214</td>\n",
       "    </tr>\n",
       "    <tr>\n",
       "      <th>10</th>\n",
       "      <td>Moncloa-Aravaca</td>\n",
       "      <td>1694.230</td>\n",
       "      <td>781.438</td>\n",
       "      <td>912.792</td>\n",
       "    </tr>\n",
       "    <tr>\n",
       "      <th>11</th>\n",
       "      <td>Moratalaz</td>\n",
       "      <td>1317.242</td>\n",
       "      <td>600.756</td>\n",
       "      <td>716.486</td>\n",
       "    </tr>\n",
       "    <tr>\n",
       "      <th>12</th>\n",
       "      <td>Puente de Vallecas</td>\n",
       "      <td>3350.942</td>\n",
       "      <td>1589.274</td>\n",
       "      <td>1761.668</td>\n",
       "    </tr>\n",
       "    <tr>\n",
       "      <th>13</th>\n",
       "      <td>Retiro</td>\n",
       "      <td>1665.400</td>\n",
       "      <td>755.040</td>\n",
       "      <td>910.360</td>\n",
       "    </tr>\n",
       "    <tr>\n",
       "      <th>14</th>\n",
       "      <td>Salamanca</td>\n",
       "      <td>2052.446</td>\n",
       "      <td>906.528</td>\n",
       "      <td>1145.918</td>\n",
       "    </tr>\n",
       "    <tr>\n",
       "      <th>15</th>\n",
       "      <td>San Blas-Canillejas</td>\n",
       "      <td>2244.760</td>\n",
       "      <td>1061.528</td>\n",
       "      <td>1183.232</td>\n",
       "    </tr>\n",
       "    <tr>\n",
       "      <th>16</th>\n",
       "      <td>Tetuán</td>\n",
       "      <td>2237.424</td>\n",
       "      <td>1018.226</td>\n",
       "      <td>1219.198</td>\n",
       "    </tr>\n",
       "    <tr>\n",
       "      <th>17</th>\n",
       "      <td>Usera</td>\n",
       "      <td>1988.988</td>\n",
       "      <td>939.620</td>\n",
       "      <td>1049.368</td>\n",
       "    </tr>\n",
       "    <tr>\n",
       "      <th>18</th>\n",
       "      <td>Vicálvaro</td>\n",
       "      <td>1091.050</td>\n",
       "      <td>528.216</td>\n",
       "      <td>562.834</td>\n",
       "    </tr>\n",
       "    <tr>\n",
       "      <th>19</th>\n",
       "      <td>Villa de Vallecas</td>\n",
       "      <td>1603.970</td>\n",
       "      <td>777.204</td>\n",
       "      <td>826.766</td>\n",
       "    </tr>\n",
       "    <tr>\n",
       "      <th>20</th>\n",
       "      <td>Villaverde</td>\n",
       "      <td>2168.702</td>\n",
       "      <td>1036.894</td>\n",
       "      <td>1131.808</td>\n",
       "    </tr>\n",
       "    <tr>\n",
       "      <th>21</th>\n",
       "      <td>Todos</td>\n",
       "      <td>23222.074</td>\n",
       "      <td>10836.865</td>\n",
       "      <td>12385.209</td>\n",
       "    </tr>\n",
       "  </tbody>\n",
       "</table>\n",
       "</div>"
      ],
      "text/plain": [
       "                distrito  num_personas  num_personas_hombres  \\\n",
       "0             Arganzuela      2158.282              1007.602   \n",
       "1                Barajas       687.114               331.106   \n",
       "2            Carabanchel      3624.696              1692.508   \n",
       "3                 Centro      1947.444               985.294   \n",
       "4              Chamartín      2042.576               919.834   \n",
       "5               Chamberí      1949.748               861.032   \n",
       "6          Ciudad Lineal      3063.406              1396.206   \n",
       "7    Fuencarral-El Pardo      3470.472              1634.020   \n",
       "8              Hortaleza      2714.558              1287.920   \n",
       "9                 Latina      3370.698              1563.484   \n",
       "10       Moncloa-Aravaca      1694.230               781.438   \n",
       "11             Moratalaz      1317.242               600.756   \n",
       "12    Puente de Vallecas      3350.942              1589.274   \n",
       "13                Retiro      1665.400               755.040   \n",
       "14             Salamanca      2052.446               906.528   \n",
       "15   San Blas-Canillejas      2244.760              1061.528   \n",
       "16                Tetuán      2237.424              1018.226   \n",
       "17                 Usera      1988.988               939.620   \n",
       "18             Vicálvaro      1091.050               528.216   \n",
       "19     Villa de Vallecas      1603.970               777.204   \n",
       "20            Villaverde      2168.702              1036.894   \n",
       "21                 Todos     23222.074             10836.865   \n",
       "\n",
       "    num_personas_mujeres  \n",
       "0               1150.680  \n",
       "1                356.008  \n",
       "2               1932.188  \n",
       "3                962.150  \n",
       "4               1122.742  \n",
       "5               1088.716  \n",
       "6               1667.200  \n",
       "7               1836.452  \n",
       "8               1426.638  \n",
       "9               1807.214  \n",
       "10               912.792  \n",
       "11               716.486  \n",
       "12              1761.668  \n",
       "13               910.360  \n",
       "14              1145.918  \n",
       "15              1183.232  \n",
       "16              1219.198  \n",
       "17              1049.368  \n",
       "18               562.834  \n",
       "19               826.766  \n",
       "20              1131.808  \n",
       "21             12385.209  "
      ]
     },
     "execution_count": 96,
     "metadata": {},
     "output_type": "execute_result"
    }
   ],
   "source": [
    "poblacion_madrid"
   ]
  },
  {
   "cell_type": "code",
   "execution_count": 97,
   "id": "6335cfdc",
   "metadata": {},
   "outputs": [],
   "source": [
    "poblacion_madrid = poblacion_madrid[poblacion_madrid['distrito'] != 'Todos']\n"
   ]
  },
  {
   "cell_type": "code",
   "execution_count": 98,
   "id": "845792a5",
   "metadata": {},
   "outputs": [
    {
     "data": {
      "text/html": [
       "<div>\n",
       "<style scoped>\n",
       "    .dataframe tbody tr th:only-of-type {\n",
       "        vertical-align: middle;\n",
       "    }\n",
       "\n",
       "    .dataframe tbody tr th {\n",
       "        vertical-align: top;\n",
       "    }\n",
       "\n",
       "    .dataframe thead th {\n",
       "        text-align: right;\n",
       "    }\n",
       "</style>\n",
       "<table border=\"1\" class=\"dataframe\">\n",
       "  <thead>\n",
       "    <tr style=\"text-align: right;\">\n",
       "      <th></th>\n",
       "      <th>distrito</th>\n",
       "      <th>num_personas</th>\n",
       "      <th>num_personas_hombres</th>\n",
       "      <th>num_personas_mujeres</th>\n",
       "    </tr>\n",
       "  </thead>\n",
       "  <tbody>\n",
       "    <tr>\n",
       "      <th>0</th>\n",
       "      <td>Arganzuela</td>\n",
       "      <td>2158.282</td>\n",
       "      <td>1007.602</td>\n",
       "      <td>1150.680</td>\n",
       "    </tr>\n",
       "    <tr>\n",
       "      <th>1</th>\n",
       "      <td>Barajas</td>\n",
       "      <td>687.114</td>\n",
       "      <td>331.106</td>\n",
       "      <td>356.008</td>\n",
       "    </tr>\n",
       "    <tr>\n",
       "      <th>2</th>\n",
       "      <td>Carabanchel</td>\n",
       "      <td>3624.696</td>\n",
       "      <td>1692.508</td>\n",
       "      <td>1932.188</td>\n",
       "    </tr>\n",
       "    <tr>\n",
       "      <th>3</th>\n",
       "      <td>Centro</td>\n",
       "      <td>1947.444</td>\n",
       "      <td>985.294</td>\n",
       "      <td>962.150</td>\n",
       "    </tr>\n",
       "    <tr>\n",
       "      <th>4</th>\n",
       "      <td>Chamartín</td>\n",
       "      <td>2042.576</td>\n",
       "      <td>919.834</td>\n",
       "      <td>1122.742</td>\n",
       "    </tr>\n",
       "    <tr>\n",
       "      <th>5</th>\n",
       "      <td>Chamberí</td>\n",
       "      <td>1949.748</td>\n",
       "      <td>861.032</td>\n",
       "      <td>1088.716</td>\n",
       "    </tr>\n",
       "    <tr>\n",
       "      <th>6</th>\n",
       "      <td>Ciudad Lineal</td>\n",
       "      <td>3063.406</td>\n",
       "      <td>1396.206</td>\n",
       "      <td>1667.200</td>\n",
       "    </tr>\n",
       "    <tr>\n",
       "      <th>7</th>\n",
       "      <td>Fuencarral-El Pardo</td>\n",
       "      <td>3470.472</td>\n",
       "      <td>1634.020</td>\n",
       "      <td>1836.452</td>\n",
       "    </tr>\n",
       "    <tr>\n",
       "      <th>8</th>\n",
       "      <td>Hortaleza</td>\n",
       "      <td>2714.558</td>\n",
       "      <td>1287.920</td>\n",
       "      <td>1426.638</td>\n",
       "    </tr>\n",
       "    <tr>\n",
       "      <th>9</th>\n",
       "      <td>Latina</td>\n",
       "      <td>3370.698</td>\n",
       "      <td>1563.484</td>\n",
       "      <td>1807.214</td>\n",
       "    </tr>\n",
       "    <tr>\n",
       "      <th>10</th>\n",
       "      <td>Moncloa-Aravaca</td>\n",
       "      <td>1694.230</td>\n",
       "      <td>781.438</td>\n",
       "      <td>912.792</td>\n",
       "    </tr>\n",
       "    <tr>\n",
       "      <th>11</th>\n",
       "      <td>Moratalaz</td>\n",
       "      <td>1317.242</td>\n",
       "      <td>600.756</td>\n",
       "      <td>716.486</td>\n",
       "    </tr>\n",
       "    <tr>\n",
       "      <th>12</th>\n",
       "      <td>Puente de Vallecas</td>\n",
       "      <td>3350.942</td>\n",
       "      <td>1589.274</td>\n",
       "      <td>1761.668</td>\n",
       "    </tr>\n",
       "    <tr>\n",
       "      <th>13</th>\n",
       "      <td>Retiro</td>\n",
       "      <td>1665.400</td>\n",
       "      <td>755.040</td>\n",
       "      <td>910.360</td>\n",
       "    </tr>\n",
       "    <tr>\n",
       "      <th>14</th>\n",
       "      <td>Salamanca</td>\n",
       "      <td>2052.446</td>\n",
       "      <td>906.528</td>\n",
       "      <td>1145.918</td>\n",
       "    </tr>\n",
       "    <tr>\n",
       "      <th>15</th>\n",
       "      <td>San Blas-Canillejas</td>\n",
       "      <td>2244.760</td>\n",
       "      <td>1061.528</td>\n",
       "      <td>1183.232</td>\n",
       "    </tr>\n",
       "    <tr>\n",
       "      <th>16</th>\n",
       "      <td>Tetuán</td>\n",
       "      <td>2237.424</td>\n",
       "      <td>1018.226</td>\n",
       "      <td>1219.198</td>\n",
       "    </tr>\n",
       "    <tr>\n",
       "      <th>17</th>\n",
       "      <td>Usera</td>\n",
       "      <td>1988.988</td>\n",
       "      <td>939.620</td>\n",
       "      <td>1049.368</td>\n",
       "    </tr>\n",
       "    <tr>\n",
       "      <th>18</th>\n",
       "      <td>Vicálvaro</td>\n",
       "      <td>1091.050</td>\n",
       "      <td>528.216</td>\n",
       "      <td>562.834</td>\n",
       "    </tr>\n",
       "    <tr>\n",
       "      <th>19</th>\n",
       "      <td>Villa de Vallecas</td>\n",
       "      <td>1603.970</td>\n",
       "      <td>777.204</td>\n",
       "      <td>826.766</td>\n",
       "    </tr>\n",
       "    <tr>\n",
       "      <th>20</th>\n",
       "      <td>Villaverde</td>\n",
       "      <td>2168.702</td>\n",
       "      <td>1036.894</td>\n",
       "      <td>1131.808</td>\n",
       "    </tr>\n",
       "  </tbody>\n",
       "</table>\n",
       "</div>"
      ],
      "text/plain": [
       "                distrito  num_personas  num_personas_hombres  \\\n",
       "0             Arganzuela      2158.282              1007.602   \n",
       "1                Barajas       687.114               331.106   \n",
       "2            Carabanchel      3624.696              1692.508   \n",
       "3                 Centro      1947.444               985.294   \n",
       "4              Chamartín      2042.576               919.834   \n",
       "5               Chamberí      1949.748               861.032   \n",
       "6          Ciudad Lineal      3063.406              1396.206   \n",
       "7    Fuencarral-El Pardo      3470.472              1634.020   \n",
       "8              Hortaleza      2714.558              1287.920   \n",
       "9                 Latina      3370.698              1563.484   \n",
       "10       Moncloa-Aravaca      1694.230               781.438   \n",
       "11             Moratalaz      1317.242               600.756   \n",
       "12    Puente de Vallecas      3350.942              1589.274   \n",
       "13                Retiro      1665.400               755.040   \n",
       "14             Salamanca      2052.446               906.528   \n",
       "15   San Blas-Canillejas      2244.760              1061.528   \n",
       "16                Tetuán      2237.424              1018.226   \n",
       "17                 Usera      1988.988               939.620   \n",
       "18             Vicálvaro      1091.050               528.216   \n",
       "19     Villa de Vallecas      1603.970               777.204   \n",
       "20            Villaverde      2168.702              1036.894   \n",
       "\n",
       "    num_personas_mujeres  \n",
       "0               1150.680  \n",
       "1                356.008  \n",
       "2               1932.188  \n",
       "3                962.150  \n",
       "4               1122.742  \n",
       "5               1088.716  \n",
       "6               1667.200  \n",
       "7               1836.452  \n",
       "8               1426.638  \n",
       "9               1807.214  \n",
       "10               912.792  \n",
       "11               716.486  \n",
       "12              1761.668  \n",
       "13               910.360  \n",
       "14              1145.918  \n",
       "15              1183.232  \n",
       "16              1219.198  \n",
       "17              1049.368  \n",
       "18               562.834  \n",
       "19               826.766  \n",
       "20              1131.808  "
      ]
     },
     "execution_count": 98,
     "metadata": {},
     "output_type": "execute_result"
    }
   ],
   "source": [
    "poblacion_madrid"
   ]
  },
  {
   "cell_type": "code",
   "execution_count": 99,
   "id": "65eedf34",
   "metadata": {},
   "outputs": [],
   "source": [
    "df_renta_persona_madrid = df_renta_persona[\n",
    "    (df_renta_persona['Municipios'] == '28079 Madrid') &\n",
    "    (df_renta_persona['Indicadores de renta media y mediana'] == 'Renta neta media por persona')\n",
    "].value_counts()"
   ]
  },
  {
   "cell_type": "code",
   "execution_count": 100,
   "id": "2d41e92d",
   "metadata": {},
   "outputs": [
    {
     "name": "stdout",
     "output_type": "stream",
     "text": [
      "Renta neta media por persona en Madrid (2022): 18.632\n"
     ]
    }
   ],
   "source": [
    "valor = df_renta_persona[\n",
    "    (df_renta_persona['Municipios'] == '28079 Madrid') &\n",
    "    (df_renta_persona['Indicadores de renta media y mediana'] == 'Renta neta media por persona') &\n",
    "    (df_renta_persona['Periodo'] == 2022)\n",
    "]['Total'].values[0]\n",
    "\n",
    "print(\"Renta neta media por persona en Madrid (2022):\", valor)\n"
   ]
  },
  {
   "cell_type": "code",
   "execution_count": 101,
   "id": "444f7024",
   "metadata": {},
   "outputs": [],
   "source": [
    "gimnasios_distrito = df_instalaciones.groupby(\"DISTRITO\").size().reset_index(name=\"n_gimnasios\")\n"
   ]
  },
  {
   "cell_type": "code",
   "execution_count": 102,
   "id": "d7c5e829",
   "metadata": {},
   "outputs": [],
   "source": [
    "df_instalaciones[\"DISTRITO\"] = df_instalaciones[\"DISTRITO\"].str.upper().str.strip()\n",
    "\n",
    "gimnasios_distrito.columns = gimnasios_distrito.columns.str.strip().str.upper()\n",
    "df_renta_persona.columns = df_renta_persona.columns.str.strip().str.upper()"
   ]
  },
  {
   "cell_type": "code",
   "execution_count": 103,
   "id": "ac8401de",
   "metadata": {},
   "outputs": [],
   "source": [
    "df_renta_distritos = df_renta_persona[\n",
    "    (df_renta_persona['MUNICIPIOS'] == '28079 Madrid') &\n",
    "    (df_renta_persona['INDICADORES DE RENTA MEDIA Y MEDIANA'] == 'Renta neta media por persona') &\n",
    "    (df_renta_persona['PERIODO'] == 2022)\n",
    "].copy()\n"
   ]
  },
  {
   "cell_type": "code",
   "execution_count": 104,
   "id": "39163466",
   "metadata": {},
   "outputs": [
    {
     "data": {
      "text/html": [
       "<div>\n",
       "<style scoped>\n",
       "    .dataframe tbody tr th:only-of-type {\n",
       "        vertical-align: middle;\n",
       "    }\n",
       "\n",
       "    .dataframe tbody tr th {\n",
       "        vertical-align: top;\n",
       "    }\n",
       "\n",
       "    .dataframe thead th {\n",
       "        text-align: right;\n",
       "    }\n",
       "</style>\n",
       "<table border=\"1\" class=\"dataframe\">\n",
       "  <thead>\n",
       "    <tr style=\"text-align: right;\">\n",
       "      <th></th>\n",
       "      <th>MUNICIPIOS</th>\n",
       "      <th>DISTRITOS</th>\n",
       "      <th>SECCIONES</th>\n",
       "      <th>INDICADORES DE RENTA MEDIA Y MEDIANA</th>\n",
       "      <th>PERIODO</th>\n",
       "      <th>TOTAL</th>\n",
       "    </tr>\n",
       "  </thead>\n",
       "  <tbody>\n",
       "    <tr>\n",
       "      <th>62208</th>\n",
       "      <td>28079 Madrid</td>\n",
       "      <td>NaN</td>\n",
       "      <td>NaN</td>\n",
       "      <td>Renta neta media por persona</td>\n",
       "      <td>2022</td>\n",
       "      <td>18.632</td>\n",
       "    </tr>\n",
       "    <tr>\n",
       "      <th>62256</th>\n",
       "      <td>28079 Madrid</td>\n",
       "      <td>2807901 Madrid distrito 01</td>\n",
       "      <td>NaN</td>\n",
       "      <td>Renta neta media por persona</td>\n",
       "      <td>2022</td>\n",
       "      <td>20.587</td>\n",
       "    </tr>\n",
       "    <tr>\n",
       "      <th>62304</th>\n",
       "      <td>28079 Madrid</td>\n",
       "      <td>2807901 Madrid distrito 01</td>\n",
       "      <td>2807901001 Madrid sección 01001</td>\n",
       "      <td>Renta neta media por persona</td>\n",
       "      <td>2022</td>\n",
       "      <td>26.032</td>\n",
       "    </tr>\n",
       "    <tr>\n",
       "      <th>62352</th>\n",
       "      <td>28079 Madrid</td>\n",
       "      <td>2807901 Madrid distrito 01</td>\n",
       "      <td>2807901002 Madrid sección 01002</td>\n",
       "      <td>Renta neta media por persona</td>\n",
       "      <td>2022</td>\n",
       "      <td>18.878</td>\n",
       "    </tr>\n",
       "    <tr>\n",
       "      <th>62400</th>\n",
       "      <td>28079 Madrid</td>\n",
       "      <td>2807901 Madrid distrito 01</td>\n",
       "      <td>2807901003 Madrid sección 01003</td>\n",
       "      <td>Renta neta media por persona</td>\n",
       "      <td>2022</td>\n",
       "      <td>19.309</td>\n",
       "    </tr>\n",
       "    <tr>\n",
       "      <th>...</th>\n",
       "      <td>...</td>\n",
       "      <td>...</td>\n",
       "      <td>...</td>\n",
       "      <td>...</td>\n",
       "      <td>...</td>\n",
       "      <td>...</td>\n",
       "    </tr>\n",
       "    <tr>\n",
       "      <th>182688</th>\n",
       "      <td>28079 Madrid</td>\n",
       "      <td>2807921 Madrid distrito 21</td>\n",
       "      <td>2807921030 Madrid sección 21030</td>\n",
       "      <td>Renta neta media por persona</td>\n",
       "      <td>2022</td>\n",
       "      <td>18.029</td>\n",
       "    </tr>\n",
       "    <tr>\n",
       "      <th>182736</th>\n",
       "      <td>28079 Madrid</td>\n",
       "      <td>2807921 Madrid distrito 21</td>\n",
       "      <td>2807921031 Madrid sección 21031</td>\n",
       "      <td>Renta neta media por persona</td>\n",
       "      <td>2022</td>\n",
       "      <td>21.786</td>\n",
       "    </tr>\n",
       "    <tr>\n",
       "      <th>182784</th>\n",
       "      <td>28079 Madrid</td>\n",
       "      <td>2807921 Madrid distrito 21</td>\n",
       "      <td>2807921032 Madrid sección 21032</td>\n",
       "      <td>Renta neta media por persona</td>\n",
       "      <td>2022</td>\n",
       "      <td>26.453</td>\n",
       "    </tr>\n",
       "    <tr>\n",
       "      <th>182832</th>\n",
       "      <td>28079 Madrid</td>\n",
       "      <td>2807921 Madrid distrito 21</td>\n",
       "      <td>2807921033 Madrid sección 21033</td>\n",
       "      <td>Renta neta media por persona</td>\n",
       "      <td>2022</td>\n",
       "      <td>14.174</td>\n",
       "    </tr>\n",
       "    <tr>\n",
       "      <th>182880</th>\n",
       "      <td>28079 Madrid</td>\n",
       "      <td>2807921 Madrid distrito 21</td>\n",
       "      <td>2807921034 Madrid sección 21034</td>\n",
       "      <td>Renta neta media por persona</td>\n",
       "      <td>2022</td>\n",
       "      <td>16.796</td>\n",
       "    </tr>\n",
       "  </tbody>\n",
       "</table>\n",
       "<p>2515 rows × 6 columns</p>\n",
       "</div>"
      ],
      "text/plain": [
       "          MUNICIPIOS                   DISTRITOS  \\\n",
       "62208   28079 Madrid                         NaN   \n",
       "62256   28079 Madrid  2807901 Madrid distrito 01   \n",
       "62304   28079 Madrid  2807901 Madrid distrito 01   \n",
       "62352   28079 Madrid  2807901 Madrid distrito 01   \n",
       "62400   28079 Madrid  2807901 Madrid distrito 01   \n",
       "...              ...                         ...   \n",
       "182688  28079 Madrid  2807921 Madrid distrito 21   \n",
       "182736  28079 Madrid  2807921 Madrid distrito 21   \n",
       "182784  28079 Madrid  2807921 Madrid distrito 21   \n",
       "182832  28079 Madrid  2807921 Madrid distrito 21   \n",
       "182880  28079 Madrid  2807921 Madrid distrito 21   \n",
       "\n",
       "                              SECCIONES INDICADORES DE RENTA MEDIA Y MEDIANA  \\\n",
       "62208                               NaN         Renta neta media por persona   \n",
       "62256                               NaN         Renta neta media por persona   \n",
       "62304   2807901001 Madrid sección 01001         Renta neta media por persona   \n",
       "62352   2807901002 Madrid sección 01002         Renta neta media por persona   \n",
       "62400   2807901003 Madrid sección 01003         Renta neta media por persona   \n",
       "...                                 ...                                  ...   \n",
       "182688  2807921030 Madrid sección 21030         Renta neta media por persona   \n",
       "182736  2807921031 Madrid sección 21031         Renta neta media por persona   \n",
       "182784  2807921032 Madrid sección 21032         Renta neta media por persona   \n",
       "182832  2807921033 Madrid sección 21033         Renta neta media por persona   \n",
       "182880  2807921034 Madrid sección 21034         Renta neta media por persona   \n",
       "\n",
       "        PERIODO   TOTAL  \n",
       "62208      2022  18.632  \n",
       "62256      2022  20.587  \n",
       "62304      2022  26.032  \n",
       "62352      2022  18.878  \n",
       "62400      2022  19.309  \n",
       "...         ...     ...  \n",
       "182688     2022  18.029  \n",
       "182736     2022  21.786  \n",
       "182784     2022  26.453  \n",
       "182832     2022  14.174  \n",
       "182880     2022  16.796  \n",
       "\n",
       "[2515 rows x 6 columns]"
      ]
     },
     "execution_count": 104,
     "metadata": {},
     "output_type": "execute_result"
    }
   ],
   "source": [
    "df_renta_distritos"
   ]
  },
  {
   "cell_type": "code",
   "execution_count": 105,
   "id": "8bebb768",
   "metadata": {},
   "outputs": [],
   "source": [
    "df_renta_persona = df_renta_persona.dropna(subset=['DISTRITOS', 'SECCIONES'])\n"
   ]
  },
  {
   "cell_type": "code",
   "execution_count": 106,
   "id": "d734c4ca",
   "metadata": {},
   "outputs": [],
   "source": [
    "df_renta_2022 = df_renta_persona[\n",
    "    (df_renta_persona['PERIODO'] == 2022) &\n",
    "    (df_renta_persona['INDICADORES DE RENTA MEDIA Y MEDIANA'] == 'Renta neta media por persona')\n",
    "]\n",
    "\n",
    "df_renta_2022 = df_renta_2022.dropna(subset=['DISTRITOS', 'TOTAL'])\n",
    "\n",
    "df_renta_2022['TOTAL'] = pd.to_numeric(df_renta_2022['TOTAL'], errors='coerce')\n",
    "\n",
    "df_renta_distrito_2022 = df_renta_2022.groupby('DISTRITOS')['TOTAL'].mean().reset_index()\n",
    "\n",
    "df_renta_distrito_2022.columns = ['DISTRITO', 'RENTA_PERSONA']\n",
    "\n",
    "\n"
   ]
  },
  {
   "cell_type": "code",
   "execution_count": 107,
   "id": "1280e2e6",
   "metadata": {},
   "outputs": [
    {
     "data": {
      "text/html": [
       "<div>\n",
       "<style scoped>\n",
       "    .dataframe tbody tr th:only-of-type {\n",
       "        vertical-align: middle;\n",
       "    }\n",
       "\n",
       "    .dataframe tbody tr th {\n",
       "        vertical-align: top;\n",
       "    }\n",
       "\n",
       "    .dataframe thead th {\n",
       "        text-align: right;\n",
       "    }\n",
       "</style>\n",
       "<table border=\"1\" class=\"dataframe\">\n",
       "  <thead>\n",
       "    <tr style=\"text-align: right;\">\n",
       "      <th></th>\n",
       "      <th>DISTRITO</th>\n",
       "      <th>RENTA_PERSONA</th>\n",
       "    </tr>\n",
       "  </thead>\n",
       "  <tbody>\n",
       "    <tr>\n",
       "      <th>0</th>\n",
       "      <td>2800101 Acebeda, La distrito 01</td>\n",
       "      <td>15.715000</td>\n",
       "    </tr>\n",
       "    <tr>\n",
       "      <th>1</th>\n",
       "      <td>2800201 Ajalvir distrito 01</td>\n",
       "      <td>15.379000</td>\n",
       "    </tr>\n",
       "    <tr>\n",
       "      <th>2</th>\n",
       "      <td>2800301 Alameda del Valle distrito 01</td>\n",
       "      <td>18.804000</td>\n",
       "    </tr>\n",
       "    <tr>\n",
       "      <th>3</th>\n",
       "      <td>2800401 Álamo, El distrito 01</td>\n",
       "      <td>11.694750</td>\n",
       "    </tr>\n",
       "    <tr>\n",
       "      <th>4</th>\n",
       "      <td>2800501 Alcalá de Henares distrito 01</td>\n",
       "      <td>15.252261</td>\n",
       "    </tr>\n",
       "    <tr>\n",
       "      <th>...</th>\n",
       "      <td>...</td>\n",
       "      <td>...</td>\n",
       "    </tr>\n",
       "    <tr>\n",
       "      <th>241</th>\n",
       "      <td>2818201 Villavieja del Lozoya distrito 01</td>\n",
       "      <td>14.583000</td>\n",
       "    </tr>\n",
       "    <tr>\n",
       "      <th>242</th>\n",
       "      <td>2818301 Zarzalejo distrito 01</td>\n",
       "      <td>12.050000</td>\n",
       "    </tr>\n",
       "    <tr>\n",
       "      <th>243</th>\n",
       "      <td>2890101 Lozoyuela-Navas-Sieteiglesias distrito 01</td>\n",
       "      <td>12.643000</td>\n",
       "    </tr>\n",
       "    <tr>\n",
       "      <th>244</th>\n",
       "      <td>2890201 Puentes Viejas distrito 01</td>\n",
       "      <td>15.030000</td>\n",
       "    </tr>\n",
       "    <tr>\n",
       "      <th>245</th>\n",
       "      <td>2890301 Tres Cantos distrito 01</td>\n",
       "      <td>21.685037</td>\n",
       "    </tr>\n",
       "  </tbody>\n",
       "</table>\n",
       "<p>246 rows × 2 columns</p>\n",
       "</div>"
      ],
      "text/plain": [
       "                                              DISTRITO  RENTA_PERSONA\n",
       "0                      2800101 Acebeda, La distrito 01      15.715000\n",
       "1                          2800201 Ajalvir distrito 01      15.379000\n",
       "2                2800301 Alameda del Valle distrito 01      18.804000\n",
       "3                        2800401 Álamo, El distrito 01      11.694750\n",
       "4                2800501 Alcalá de Henares distrito 01      15.252261\n",
       "..                                                 ...            ...\n",
       "241          2818201 Villavieja del Lozoya distrito 01      14.583000\n",
       "242                      2818301 Zarzalejo distrito 01      12.050000\n",
       "243  2890101 Lozoyuela-Navas-Sieteiglesias distrito 01      12.643000\n",
       "244                 2890201 Puentes Viejas distrito 01      15.030000\n",
       "245                    2890301 Tres Cantos distrito 01      21.685037\n",
       "\n",
       "[246 rows x 2 columns]"
      ]
     },
     "execution_count": 107,
     "metadata": {},
     "output_type": "execute_result"
    }
   ],
   "source": [
    "df_renta_distrito_2022 "
   ]
  },
  {
   "cell_type": "code",
   "execution_count": 108,
   "id": "c61f83f5",
   "metadata": {},
   "outputs": [
    {
     "data": {
      "text/html": [
       "<div>\n",
       "<style scoped>\n",
       "    .dataframe tbody tr th:only-of-type {\n",
       "        vertical-align: middle;\n",
       "    }\n",
       "\n",
       "    .dataframe tbody tr th {\n",
       "        vertical-align: top;\n",
       "    }\n",
       "\n",
       "    .dataframe thead th {\n",
       "        text-align: right;\n",
       "    }\n",
       "</style>\n",
       "<table border=\"1\" class=\"dataframe\">\n",
       "  <thead>\n",
       "    <tr style=\"text-align: right;\">\n",
       "      <th></th>\n",
       "      <th>MUNICIPIOS</th>\n",
       "      <th>DISTRITOS</th>\n",
       "      <th>SECCIONES</th>\n",
       "      <th>INDICADORES DE RENTA MEDIA Y MEDIANA</th>\n",
       "      <th>PERIODO</th>\n",
       "      <th>TOTAL</th>\n",
       "    </tr>\n",
       "  </thead>\n",
       "  <tbody>\n",
       "    <tr>\n",
       "      <th>237024</th>\n",
       "      <td>28903 Tres Cantos</td>\n",
       "      <td>2890301 Tres Cantos distrito 01</td>\n",
       "      <td>2890301001 Tres Cantos sección 01001</td>\n",
       "      <td>Renta neta media por persona</td>\n",
       "      <td>2022</td>\n",
       "      <td>20.049</td>\n",
       "    </tr>\n",
       "    <tr>\n",
       "      <th>237025</th>\n",
       "      <td>28903 Tres Cantos</td>\n",
       "      <td>2890301 Tres Cantos distrito 01</td>\n",
       "      <td>2890301001 Tres Cantos sección 01001</td>\n",
       "      <td>Renta neta media por persona</td>\n",
       "      <td>2021</td>\n",
       "      <td>19.269</td>\n",
       "    </tr>\n",
       "    <tr>\n",
       "      <th>237026</th>\n",
       "      <td>28903 Tres Cantos</td>\n",
       "      <td>2890301 Tres Cantos distrito 01</td>\n",
       "      <td>2890301001 Tres Cantos sección 01001</td>\n",
       "      <td>Renta neta media por persona</td>\n",
       "      <td>2020</td>\n",
       "      <td>18.378</td>\n",
       "    </tr>\n",
       "    <tr>\n",
       "      <th>237027</th>\n",
       "      <td>28903 Tres Cantos</td>\n",
       "      <td>2890301 Tres Cantos distrito 01</td>\n",
       "      <td>2890301001 Tres Cantos sección 01001</td>\n",
       "      <td>Renta neta media por persona</td>\n",
       "      <td>2019</td>\n",
       "      <td>18.181</td>\n",
       "    </tr>\n",
       "    <tr>\n",
       "      <th>237028</th>\n",
       "      <td>28903 Tres Cantos</td>\n",
       "      <td>2890301 Tres Cantos distrito 01</td>\n",
       "      <td>2890301001 Tres Cantos sección 01001</td>\n",
       "      <td>Renta neta media por persona</td>\n",
       "      <td>2018</td>\n",
       "      <td>17.710</td>\n",
       "    </tr>\n",
       "    <tr>\n",
       "      <th>...</th>\n",
       "      <td>...</td>\n",
       "      <td>...</td>\n",
       "      <td>...</td>\n",
       "      <td>...</td>\n",
       "      <td>...</td>\n",
       "      <td>...</td>\n",
       "    </tr>\n",
       "    <tr>\n",
       "      <th>238275</th>\n",
       "      <td>28903 Tres Cantos</td>\n",
       "      <td>2890301 Tres Cantos distrito 01</td>\n",
       "      <td>2890301027 Tres Cantos sección 01027</td>\n",
       "      <td>Renta neta media por persona</td>\n",
       "      <td>2019</td>\n",
       "      <td>NaN</td>\n",
       "    </tr>\n",
       "    <tr>\n",
       "      <th>238276</th>\n",
       "      <td>28903 Tres Cantos</td>\n",
       "      <td>2890301 Tres Cantos distrito 01</td>\n",
       "      <td>2890301027 Tres Cantos sección 01027</td>\n",
       "      <td>Renta neta media por persona</td>\n",
       "      <td>2018</td>\n",
       "      <td>NaN</td>\n",
       "    </tr>\n",
       "    <tr>\n",
       "      <th>238277</th>\n",
       "      <td>28903 Tres Cantos</td>\n",
       "      <td>2890301 Tres Cantos distrito 01</td>\n",
       "      <td>2890301027 Tres Cantos sección 01027</td>\n",
       "      <td>Renta neta media por persona</td>\n",
       "      <td>2017</td>\n",
       "      <td>NaN</td>\n",
       "    </tr>\n",
       "    <tr>\n",
       "      <th>238278</th>\n",
       "      <td>28903 Tres Cantos</td>\n",
       "      <td>2890301 Tres Cantos distrito 01</td>\n",
       "      <td>2890301027 Tres Cantos sección 01027</td>\n",
       "      <td>Renta neta media por persona</td>\n",
       "      <td>2016</td>\n",
       "      <td>NaN</td>\n",
       "    </tr>\n",
       "    <tr>\n",
       "      <th>238279</th>\n",
       "      <td>28903 Tres Cantos</td>\n",
       "      <td>2890301 Tres Cantos distrito 01</td>\n",
       "      <td>2890301027 Tres Cantos sección 01027</td>\n",
       "      <td>Renta neta media por persona</td>\n",
       "      <td>2015</td>\n",
       "      <td>NaN</td>\n",
       "    </tr>\n",
       "  </tbody>\n",
       "</table>\n",
       "<p>216 rows × 6 columns</p>\n",
       "</div>"
      ],
      "text/plain": [
       "               MUNICIPIOS                        DISTRITOS  \\\n",
       "237024  28903 Tres Cantos  2890301 Tres Cantos distrito 01   \n",
       "237025  28903 Tres Cantos  2890301 Tres Cantos distrito 01   \n",
       "237026  28903 Tres Cantos  2890301 Tres Cantos distrito 01   \n",
       "237027  28903 Tres Cantos  2890301 Tres Cantos distrito 01   \n",
       "237028  28903 Tres Cantos  2890301 Tres Cantos distrito 01   \n",
       "...                   ...                              ...   \n",
       "238275  28903 Tres Cantos  2890301 Tres Cantos distrito 01   \n",
       "238276  28903 Tres Cantos  2890301 Tres Cantos distrito 01   \n",
       "238277  28903 Tres Cantos  2890301 Tres Cantos distrito 01   \n",
       "238278  28903 Tres Cantos  2890301 Tres Cantos distrito 01   \n",
       "238279  28903 Tres Cantos  2890301 Tres Cantos distrito 01   \n",
       "\n",
       "                                   SECCIONES  \\\n",
       "237024  2890301001 Tres Cantos sección 01001   \n",
       "237025  2890301001 Tres Cantos sección 01001   \n",
       "237026  2890301001 Tres Cantos sección 01001   \n",
       "237027  2890301001 Tres Cantos sección 01001   \n",
       "237028  2890301001 Tres Cantos sección 01001   \n",
       "...                                      ...   \n",
       "238275  2890301027 Tres Cantos sección 01027   \n",
       "238276  2890301027 Tres Cantos sección 01027   \n",
       "238277  2890301027 Tres Cantos sección 01027   \n",
       "238278  2890301027 Tres Cantos sección 01027   \n",
       "238279  2890301027 Tres Cantos sección 01027   \n",
       "\n",
       "       INDICADORES DE RENTA MEDIA Y MEDIANA  PERIODO   TOTAL  \n",
       "237024         Renta neta media por persona     2022  20.049  \n",
       "237025         Renta neta media por persona     2021  19.269  \n",
       "237026         Renta neta media por persona     2020  18.378  \n",
       "237027         Renta neta media por persona     2019  18.181  \n",
       "237028         Renta neta media por persona     2018  17.710  \n",
       "...                                     ...      ...     ...  \n",
       "238275         Renta neta media por persona     2019     NaN  \n",
       "238276         Renta neta media por persona     2018     NaN  \n",
       "238277         Renta neta media por persona     2017     NaN  \n",
       "238278         Renta neta media por persona     2016     NaN  \n",
       "238279         Renta neta media por persona     2015     NaN  \n",
       "\n",
       "[216 rows x 6 columns]"
      ]
     },
     "execution_count": 108,
     "metadata": {},
     "output_type": "execute_result"
    }
   ],
   "source": [
    "df_renta_persona[\n",
    "    (df_renta_persona['MUNICIPIOS'].str.contains(\"Tres Cantos\")) &\n",
    "    (df_renta_persona['INDICADORES DE RENTA MEDIA Y MEDIANA'] == \"Renta neta media por persona\")\n",
    "]"
   ]
  },
  {
   "cell_type": "code",
   "execution_count": 109,
   "id": "febbf47d",
   "metadata": {},
   "outputs": [],
   "source": [
    "\n",
    "df_filtrado = df_renta_persona[\n",
    "    (df_renta_persona['INDICADORES DE RENTA MEDIA Y MEDIANA'] == 'Renta neta media por persona') &\n",
    "    (df_renta_persona['PERIODO'] == 2022)\n",
    "].copy()\n",
    "\n",
    "df_filtrado['TOTAL'] = (\n",
    "    df_filtrado['TOTAL']\n",
    "    .replace('.', pd.NA)\n",
    "    .astype(str)\n",
    "    .str.replace('.', '', regex=False)  \n",
    "    .str.replace(',', '.', regex=False)  \n",
    ")\n",
    "df_filtrado['TOTAL'] = pd.to_numeric(df_filtrado['TOTAL'], errors='coerce')\n",
    "\n",
    "df_filtrado = df_filtrado.dropna(subset=['TOTAL'])\n",
    "\n",
    "df_renta_distrito = df_filtrado.groupby('DISTRITOS')['TOTAL'].mean().reset_index()\n",
    "df_renta_distrito.rename(columns={'TOTAL': 'RENTA_PERSONA'}, inplace=True)\n",
    "\n",
    "\n",
    "\n"
   ]
  },
  {
   "cell_type": "code",
   "execution_count": 110,
   "id": "4178d66d",
   "metadata": {},
   "outputs": [],
   "source": [
    "df_filtrado = df_renta_persona[\n",
    "    (df_renta_persona['MUNICIPIOS'] == '28079 Madrid') &\n",
    "    (df_renta_persona['INDICADORES DE RENTA MEDIA Y MEDIANA'] == 'Renta neta media por persona') &\n",
    "    (df_renta_persona['PERIODO'] == 2022)\n",
    "].copy()"
   ]
  },
  {
   "cell_type": "code",
   "execution_count": 111,
   "id": "72272e05",
   "metadata": {},
   "outputs": [
    {
     "data": {
      "text/html": [
       "<div>\n",
       "<style scoped>\n",
       "    .dataframe tbody tr th:only-of-type {\n",
       "        vertical-align: middle;\n",
       "    }\n",
       "\n",
       "    .dataframe tbody tr th {\n",
       "        vertical-align: top;\n",
       "    }\n",
       "\n",
       "    .dataframe thead th {\n",
       "        text-align: right;\n",
       "    }\n",
       "</style>\n",
       "<table border=\"1\" class=\"dataframe\">\n",
       "  <thead>\n",
       "    <tr style=\"text-align: right;\">\n",
       "      <th></th>\n",
       "      <th>DISTRITO</th>\n",
       "      <th>RENTA_PERSONA</th>\n",
       "    </tr>\n",
       "  </thead>\n",
       "  <tbody>\n",
       "    <tr>\n",
       "      <th>0</th>\n",
       "      <td>2807901 MADRID DISTRITO 01</td>\n",
       "      <td>20530.927928</td>\n",
       "    </tr>\n",
       "    <tr>\n",
       "      <th>1</th>\n",
       "      <td>2807902 MADRID DISTRITO 02</td>\n",
       "      <td>21011.072072</td>\n",
       "    </tr>\n",
       "    <tr>\n",
       "      <th>2</th>\n",
       "      <td>2807903 MADRID DISTRITO 03</td>\n",
       "      <td>24890.294737</td>\n",
       "    </tr>\n",
       "    <tr>\n",
       "      <th>3</th>\n",
       "      <td>2807904 MADRID DISTRITO 04</td>\n",
       "      <td>26926.814516</td>\n",
       "    </tr>\n",
       "    <tr>\n",
       "      <th>4</th>\n",
       "      <td>2807905 MADRID DISTRITO 05</td>\n",
       "      <td>27371.009901</td>\n",
       "    </tr>\n",
       "    <tr>\n",
       "      <th>5</th>\n",
       "      <td>2807906 MADRID DISTRITO 06</td>\n",
       "      <td>18498.658120</td>\n",
       "    </tr>\n",
       "    <tr>\n",
       "      <th>6</th>\n",
       "      <td>2807907 MADRID DISTRITO 07</td>\n",
       "      <td>26436.380165</td>\n",
       "    </tr>\n",
       "    <tr>\n",
       "      <th>7</th>\n",
       "      <td>2807908 MADRID DISTRITO 08</td>\n",
       "      <td>20631.182796</td>\n",
       "    </tr>\n",
       "    <tr>\n",
       "      <th>8</th>\n",
       "      <td>2807909 MADRID DISTRITO 09</td>\n",
       "      <td>24324.444444</td>\n",
       "    </tr>\n",
       "    <tr>\n",
       "      <th>9</th>\n",
       "      <td>2807910 MADRID DISTRITO 10</td>\n",
       "      <td>14447.218274</td>\n",
       "    </tr>\n",
       "    <tr>\n",
       "      <th>10</th>\n",
       "      <td>2807911 MADRID DISTRITO 11</td>\n",
       "      <td>12703.839779</td>\n",
       "    </tr>\n",
       "    <tr>\n",
       "      <th>11</th>\n",
       "      <td>2807912 MADRID DISTRITO 12</td>\n",
       "      <td>11275.161290</td>\n",
       "    </tr>\n",
       "    <tr>\n",
       "      <th>12</th>\n",
       "      <td>2807913 MADRID DISTRITO 13</td>\n",
       "      <td>11330.862069</td>\n",
       "    </tr>\n",
       "    <tr>\n",
       "      <th>13</th>\n",
       "      <td>2807914 MADRID DISTRITO 14</td>\n",
       "      <td>16455.166667</td>\n",
       "    </tr>\n",
       "    <tr>\n",
       "      <th>14</th>\n",
       "      <td>2807915 MADRID DISTRITO 15</td>\n",
       "      <td>17481.488095</td>\n",
       "    </tr>\n",
       "    <tr>\n",
       "      <th>15</th>\n",
       "      <td>2807916 MADRID DISTRITO 16</td>\n",
       "      <td>19940.439024</td>\n",
       "    </tr>\n",
       "    <tr>\n",
       "      <th>16</th>\n",
       "      <td>2807917 MADRID DISTRITO 17</td>\n",
       "      <td>11420.196262</td>\n",
       "    </tr>\n",
       "    <tr>\n",
       "      <th>17</th>\n",
       "      <td>2807918 MADRID DISTRITO 18</td>\n",
       "      <td>14242.180556</td>\n",
       "    </tr>\n",
       "    <tr>\n",
       "      <th>18</th>\n",
       "      <td>2807919 MADRID DISTRITO 19</td>\n",
       "      <td>14129.392157</td>\n",
       "    </tr>\n",
       "    <tr>\n",
       "      <th>19</th>\n",
       "      <td>2807920 MADRID DISTRITO 20</td>\n",
       "      <td>15192.955357</td>\n",
       "    </tr>\n",
       "    <tr>\n",
       "      <th>20</th>\n",
       "      <td>2807921 MADRID DISTRITO 21</td>\n",
       "      <td>20343.062500</td>\n",
       "    </tr>\n",
       "  </tbody>\n",
       "</table>\n",
       "</div>"
      ],
      "text/plain": [
       "                      DISTRITO  RENTA_PERSONA\n",
       "0   2807901 MADRID DISTRITO 01   20530.927928\n",
       "1   2807902 MADRID DISTRITO 02   21011.072072\n",
       "2   2807903 MADRID DISTRITO 03   24890.294737\n",
       "3   2807904 MADRID DISTRITO 04   26926.814516\n",
       "4   2807905 MADRID DISTRITO 05   27371.009901\n",
       "5   2807906 MADRID DISTRITO 06   18498.658120\n",
       "6   2807907 MADRID DISTRITO 07   26436.380165\n",
       "7   2807908 MADRID DISTRITO 08   20631.182796\n",
       "8   2807909 MADRID DISTRITO 09   24324.444444\n",
       "9   2807910 MADRID DISTRITO 10   14447.218274\n",
       "10  2807911 MADRID DISTRITO 11   12703.839779\n",
       "11  2807912 MADRID DISTRITO 12   11275.161290\n",
       "12  2807913 MADRID DISTRITO 13   11330.862069\n",
       "13  2807914 MADRID DISTRITO 14   16455.166667\n",
       "14  2807915 MADRID DISTRITO 15   17481.488095\n",
       "15  2807916 MADRID DISTRITO 16   19940.439024\n",
       "16  2807917 MADRID DISTRITO 17   11420.196262\n",
       "17  2807918 MADRID DISTRITO 18   14242.180556\n",
       "18  2807919 MADRID DISTRITO 19   14129.392157\n",
       "19  2807920 MADRID DISTRITO 20   15192.955357\n",
       "20  2807921 MADRID DISTRITO 21   20343.062500"
      ]
     },
     "execution_count": 111,
     "metadata": {},
     "output_type": "execute_result"
    }
   ],
   "source": [
    "df_filtrado['TOTAL'] = (\n",
    "    df_filtrado['TOTAL']\n",
    "    .astype(str)\n",
    "    .str.replace('.', '', regex=False)\n",
    "    .str.replace(',', '.', regex=False)\n",
    "    .astype(float)\n",
    ")\n",
    "\n",
    "# Agrupamos por distrito\n",
    "renta_distrito = df_filtrado.groupby('DISTRITOS')['TOTAL'].mean().reset_index()\n",
    "renta_distrito.columns = ['DISTRITO', 'RENTA_PERSONA']\n",
    "\n",
    "# Estandarizamos nombres de distrito (por si acaso)\n",
    "renta_distrito['DISTRITO'] = renta_distrito['DISTRITO'].str.upper().str.strip()\n",
    "\n",
    "# Mostramos\n",
    "renta_distrito"
   ]
  },
  {
   "cell_type": "code",
   "execution_count": 112,
   "id": "37d28dff",
   "metadata": {},
   "outputs": [],
   "source": [
    "codigo_a_nombre = {\n",
    "    '2807901 MADRID DISTRITO 01': 'CENTRO',\n",
    "    '2807902 MADRID DISTRITO 02': 'ARGANZUELA',\n",
    "    '2807903 MADRID DISTRITO 03': 'RETIRO',\n",
    "    '2807904 MADRID DISTRITO 04': 'SALAMANCA',\n",
    "    '2807905 MADRID DISTRITO 05': 'CHAMARTÍN',\n",
    "    '2807906 MADRID DISTRITO 06': 'TETUÁN',\n",
    "    '2807907 MADRID DISTRITO 07': 'CHAMBERÍ',\n",
    "    '2807908 MADRID DISTRITO 08': 'FUENCARRAL-EL PARDO',\n",
    "    '2807909 MADRID DISTRITO 09': 'MONCLOA-ARAVACA',\n",
    "    '2807910 MADRID DISTRITO 10': 'LATINA',\n",
    "    '2807911 MADRID DISTRITO 11': 'CARABANCHEL',\n",
    "    '2807912 MADRID DISTRITO 12': 'USERA',\n",
    "    '2807913 MADRID DISTRITO 13': 'PUENTE DE VALLECAS',\n",
    "    '2807914 MADRID DISTRITO 14': 'MORATALAZ',\n",
    "    '2807915 MADRID DISTRITO 15': 'CIUDAD LINEAL',\n",
    "    '2807916 MADRID DISTRITO 16': 'HORTALEZA',\n",
    "    '2807917 MADRID DISTRITO 17': 'VILLAVERDE',\n",
    "    '2807918 MADRID DISTRITO 18': 'VILLA DE VALLECAS',\n",
    "    '2807919 MADRID DISTRITO 19': 'VICALVARO',\n",
    "    '2807920 MADRID DISTRITO 20': 'SAN BLAS-CANILLEJAS',\n",
    "    '2807921 MADRID DISTRITO 21': 'BARAJAS'\n",
    "}"
   ]
  },
  {
   "cell_type": "code",
   "execution_count": 113,
   "id": "e7609df6",
   "metadata": {},
   "outputs": [],
   "source": [
    "renta_distrito['DISTRITO'] = renta_distrito['DISTRITO'].map(codigo_a_nombre)\n"
   ]
  },
  {
   "cell_type": "code",
   "execution_count": 114,
   "id": "08363b4b",
   "metadata": {},
   "outputs": [],
   "source": [
    "renta_distrito['RENTA_PERSONA'] = renta_distrito['RENTA_PERSONA'].round(0).astype(int)\n"
   ]
  },
  {
   "cell_type": "code",
   "execution_count": 115,
   "id": "ff25dcb7",
   "metadata": {},
   "outputs": [
    {
     "data": {
      "text/html": [
       "<div>\n",
       "<style scoped>\n",
       "    .dataframe tbody tr th:only-of-type {\n",
       "        vertical-align: middle;\n",
       "    }\n",
       "\n",
       "    .dataframe tbody tr th {\n",
       "        vertical-align: top;\n",
       "    }\n",
       "\n",
       "    .dataframe thead th {\n",
       "        text-align: right;\n",
       "    }\n",
       "</style>\n",
       "<table border=\"1\" class=\"dataframe\">\n",
       "  <thead>\n",
       "    <tr style=\"text-align: right;\">\n",
       "      <th></th>\n",
       "      <th>DISTRITO</th>\n",
       "      <th>RENTA_PERSONA</th>\n",
       "    </tr>\n",
       "  </thead>\n",
       "  <tbody>\n",
       "    <tr>\n",
       "      <th>0</th>\n",
       "      <td>CENTRO</td>\n",
       "      <td>20531</td>\n",
       "    </tr>\n",
       "    <tr>\n",
       "      <th>1</th>\n",
       "      <td>ARGANZUELA</td>\n",
       "      <td>21011</td>\n",
       "    </tr>\n",
       "    <tr>\n",
       "      <th>2</th>\n",
       "      <td>RETIRO</td>\n",
       "      <td>24890</td>\n",
       "    </tr>\n",
       "    <tr>\n",
       "      <th>3</th>\n",
       "      <td>SALAMANCA</td>\n",
       "      <td>26927</td>\n",
       "    </tr>\n",
       "    <tr>\n",
       "      <th>4</th>\n",
       "      <td>CHAMARTÍN</td>\n",
       "      <td>27371</td>\n",
       "    </tr>\n",
       "    <tr>\n",
       "      <th>5</th>\n",
       "      <td>TETUÁN</td>\n",
       "      <td>18499</td>\n",
       "    </tr>\n",
       "    <tr>\n",
       "      <th>6</th>\n",
       "      <td>CHAMBERÍ</td>\n",
       "      <td>26436</td>\n",
       "    </tr>\n",
       "    <tr>\n",
       "      <th>7</th>\n",
       "      <td>FUENCARRAL-EL PARDO</td>\n",
       "      <td>20631</td>\n",
       "    </tr>\n",
       "    <tr>\n",
       "      <th>8</th>\n",
       "      <td>MONCLOA-ARAVACA</td>\n",
       "      <td>24324</td>\n",
       "    </tr>\n",
       "    <tr>\n",
       "      <th>9</th>\n",
       "      <td>LATINA</td>\n",
       "      <td>14447</td>\n",
       "    </tr>\n",
       "    <tr>\n",
       "      <th>10</th>\n",
       "      <td>CARABANCHEL</td>\n",
       "      <td>12704</td>\n",
       "    </tr>\n",
       "    <tr>\n",
       "      <th>11</th>\n",
       "      <td>USERA</td>\n",
       "      <td>11275</td>\n",
       "    </tr>\n",
       "    <tr>\n",
       "      <th>12</th>\n",
       "      <td>PUENTE DE VALLECAS</td>\n",
       "      <td>11331</td>\n",
       "    </tr>\n",
       "    <tr>\n",
       "      <th>13</th>\n",
       "      <td>MORATALAZ</td>\n",
       "      <td>16455</td>\n",
       "    </tr>\n",
       "    <tr>\n",
       "      <th>14</th>\n",
       "      <td>CIUDAD LINEAL</td>\n",
       "      <td>17481</td>\n",
       "    </tr>\n",
       "    <tr>\n",
       "      <th>15</th>\n",
       "      <td>HORTALEZA</td>\n",
       "      <td>19940</td>\n",
       "    </tr>\n",
       "    <tr>\n",
       "      <th>16</th>\n",
       "      <td>VILLAVERDE</td>\n",
       "      <td>11420</td>\n",
       "    </tr>\n",
       "    <tr>\n",
       "      <th>17</th>\n",
       "      <td>VILLA DE VALLECAS</td>\n",
       "      <td>14242</td>\n",
       "    </tr>\n",
       "    <tr>\n",
       "      <th>18</th>\n",
       "      <td>VICALVARO</td>\n",
       "      <td>14129</td>\n",
       "    </tr>\n",
       "    <tr>\n",
       "      <th>19</th>\n",
       "      <td>SAN BLAS-CANILLEJAS</td>\n",
       "      <td>15193</td>\n",
       "    </tr>\n",
       "    <tr>\n",
       "      <th>20</th>\n",
       "      <td>BARAJAS</td>\n",
       "      <td>20343</td>\n",
       "    </tr>\n",
       "  </tbody>\n",
       "</table>\n",
       "</div>"
      ],
      "text/plain": [
       "               DISTRITO  RENTA_PERSONA\n",
       "0                CENTRO          20531\n",
       "1            ARGANZUELA          21011\n",
       "2                RETIRO          24890\n",
       "3             SALAMANCA          26927\n",
       "4             CHAMARTÍN          27371\n",
       "5                TETUÁN          18499\n",
       "6              CHAMBERÍ          26436\n",
       "7   FUENCARRAL-EL PARDO          20631\n",
       "8       MONCLOA-ARAVACA          24324\n",
       "9                LATINA          14447\n",
       "10          CARABANCHEL          12704\n",
       "11                USERA          11275\n",
       "12   PUENTE DE VALLECAS          11331\n",
       "13            MORATALAZ          16455\n",
       "14        CIUDAD LINEAL          17481\n",
       "15            HORTALEZA          19940\n",
       "16           VILLAVERDE          11420\n",
       "17    VILLA DE VALLECAS          14242\n",
       "18            VICALVARO          14129\n",
       "19  SAN BLAS-CANILLEJAS          15193\n",
       "20              BARAJAS          20343"
      ]
     },
     "execution_count": 115,
     "metadata": {},
     "output_type": "execute_result"
    }
   ],
   "source": [
    "renta_distrito #2022"
   ]
  },
  {
   "cell_type": "code",
   "execution_count": 116,
   "id": "ffd94d5f",
   "metadata": {},
   "outputs": [],
   "source": [
    "columnas_utiles = ['NOMBRE', 'DISTRITO', 'COD-DISTRITO', 'TIPO', 'EQUIPAMIENTO', 'LATITUD', 'LONGITUD']\n",
    "instalaciones_deportivas = df_instalaciones[columnas_utiles].copy()"
   ]
  },
  {
   "cell_type": "code",
   "execution_count": 117,
   "id": "de5e7bc1",
   "metadata": {},
   "outputs": [],
   "source": [
    "instalaciones_deportivas = instalaciones_deportivas.drop(columns=['EQUIPAMIENTO'])"
   ]
  },
  {
   "cell_type": "code",
   "execution_count": 118,
   "id": "265cf774",
   "metadata": {},
   "outputs": [],
   "source": [
    "instalaciones_deportivas.drop(columns=['TIPO'],inplace= True)"
   ]
  },
  {
   "cell_type": "code",
   "execution_count": 119,
   "id": "fc8d35c7",
   "metadata": {},
   "outputs": [],
   "source": [
    "df_instalaciones_por_distrito = instalaciones_deportivas.groupby('DISTRITO')['NOMBRE'].count().reset_index()\n"
   ]
  },
  {
   "cell_type": "code",
   "execution_count": 120,
   "id": "469745cb",
   "metadata": {},
   "outputs": [
    {
     "data": {
      "text/html": [
       "<div>\n",
       "<style scoped>\n",
       "    .dataframe tbody tr th:only-of-type {\n",
       "        vertical-align: middle;\n",
       "    }\n",
       "\n",
       "    .dataframe tbody tr th {\n",
       "        vertical-align: top;\n",
       "    }\n",
       "\n",
       "    .dataframe thead th {\n",
       "        text-align: right;\n",
       "    }\n",
       "</style>\n",
       "<table border=\"1\" class=\"dataframe\">\n",
       "  <thead>\n",
       "    <tr style=\"text-align: right;\">\n",
       "      <th></th>\n",
       "      <th>NOMBRE</th>\n",
       "      <th>DISTRITO</th>\n",
       "      <th>COD-DISTRITO</th>\n",
       "      <th>LATITUD</th>\n",
       "      <th>LONGITUD</th>\n",
       "    </tr>\n",
       "  </thead>\n",
       "  <tbody>\n",
       "    <tr>\n",
       "      <th>0</th>\n",
       "      <td>Instalación Deportiva  Básica Embalse de San Juan</td>\n",
       "      <td>VILLA DE VALLECAS</td>\n",
       "      <td>18.0</td>\n",
       "      <td>40.362643</td>\n",
       "      <td>-3.598148</td>\n",
       "    </tr>\n",
       "    <tr>\n",
       "      <th>1</th>\n",
       "      <td>Instalación Deportiva Básica Alto del Retiro</td>\n",
       "      <td>VILLA DE VALLECAS</td>\n",
       "      <td>18.0</td>\n",
       "      <td>40.367515</td>\n",
       "      <td>-3.588265</td>\n",
       "    </tr>\n",
       "    <tr>\n",
       "      <th>2</th>\n",
       "      <td>Instalación Deportiva Básica Avenida de Cerro ...</td>\n",
       "      <td>VILLA DE VALLECAS</td>\n",
       "      <td>18.0</td>\n",
       "      <td>40.368619</td>\n",
       "      <td>-3.618357</td>\n",
       "    </tr>\n",
       "    <tr>\n",
       "      <th>3</th>\n",
       "      <td>Instalación Deportiva Básica Avenida de las Su...</td>\n",
       "      <td>VILLA DE VALLECAS</td>\n",
       "      <td>18.0</td>\n",
       "      <td>40.370297</td>\n",
       "      <td>-3.612067</td>\n",
       "    </tr>\n",
       "    <tr>\n",
       "      <th>4</th>\n",
       "      <td>Instalación Deportiva Básica Avenida del Ensan...</td>\n",
       "      <td>VILLA DE VALLECAS</td>\n",
       "      <td>18.0</td>\n",
       "      <td>40.370297</td>\n",
       "      <td>-3.612067</td>\n",
       "    </tr>\n",
       "    <tr>\n",
       "      <th>...</th>\n",
       "      <td>...</td>\n",
       "      <td>...</td>\n",
       "      <td>...</td>\n",
       "      <td>...</td>\n",
       "      <td>...</td>\n",
       "    </tr>\n",
       "    <tr>\n",
       "      <th>499</th>\n",
       "      <td>Instalación Deportiva Municipal Rocódromo 'Roc...</td>\n",
       "      <td>CARABANCHEL</td>\n",
       "      <td>11.0</td>\n",
       "      <td>40.399273</td>\n",
       "      <td>-3.718824</td>\n",
       "    </tr>\n",
       "    <tr>\n",
       "      <th>500</th>\n",
       "      <td>Instalación deportiva municipal básica Campo d...</td>\n",
       "      <td>LATINA</td>\n",
       "      <td>10.0</td>\n",
       "      <td>40.397186</td>\n",
       "      <td>-3.751840</td>\n",
       "    </tr>\n",
       "    <tr>\n",
       "      <th>501</th>\n",
       "      <td>Parque Lineal UZI 0.06 Arroyofresno</td>\n",
       "      <td>FUENCARRAL-EL PARDO</td>\n",
       "      <td>8.0</td>\n",
       "      <td>40.487147</td>\n",
       "      <td>-3.732863</td>\n",
       "    </tr>\n",
       "    <tr>\n",
       "      <th>502</th>\n",
       "      <td>Pista de Patinaje Paco de Lucía</td>\n",
       "      <td>DISTRITO</td>\n",
       "      <td>NaN</td>\n",
       "      <td>40.385278</td>\n",
       "      <td>-3.764155</td>\n",
       "    </tr>\n",
       "    <tr>\n",
       "      <th>503</th>\n",
       "      <td>Pista de petanca Centro de Mayores La Vaguada</td>\n",
       "      <td>FUENCARRAL-EL PARDO</td>\n",
       "      <td>8.0</td>\n",
       "      <td>40.479033</td>\n",
       "      <td>-3.708264</td>\n",
       "    </tr>\n",
       "  </tbody>\n",
       "</table>\n",
       "<p>504 rows × 5 columns</p>\n",
       "</div>"
      ],
      "text/plain": [
       "                                                NOMBRE             DISTRITO  \\\n",
       "0    Instalación Deportiva  Básica Embalse de San Juan    VILLA DE VALLECAS   \n",
       "1         Instalación Deportiva Básica Alto del Retiro    VILLA DE VALLECAS   \n",
       "2    Instalación Deportiva Básica Avenida de Cerro ...    VILLA DE VALLECAS   \n",
       "3    Instalación Deportiva Básica Avenida de las Su...    VILLA DE VALLECAS   \n",
       "4    Instalación Deportiva Básica Avenida del Ensan...    VILLA DE VALLECAS   \n",
       "..                                                 ...                  ...   \n",
       "499  Instalación Deportiva Municipal Rocódromo 'Roc...          CARABANCHEL   \n",
       "500  Instalación deportiva municipal básica Campo d...               LATINA   \n",
       "501                Parque Lineal UZI 0.06 Arroyofresno  FUENCARRAL-EL PARDO   \n",
       "502                    Pista de Patinaje Paco de Lucía             DISTRITO   \n",
       "503      Pista de petanca Centro de Mayores La Vaguada  FUENCARRAL-EL PARDO   \n",
       "\n",
       "     COD-DISTRITO    LATITUD  LONGITUD  \n",
       "0            18.0  40.362643 -3.598148  \n",
       "1            18.0  40.367515 -3.588265  \n",
       "2            18.0  40.368619 -3.618357  \n",
       "3            18.0  40.370297 -3.612067  \n",
       "4            18.0  40.370297 -3.612067  \n",
       "..            ...        ...       ...  \n",
       "499          11.0  40.399273 -3.718824  \n",
       "500          10.0  40.397186 -3.751840  \n",
       "501           8.0  40.487147 -3.732863  \n",
       "502           NaN  40.385278 -3.764155  \n",
       "503           8.0  40.479033 -3.708264  \n",
       "\n",
       "[504 rows x 5 columns]"
      ]
     },
     "execution_count": 120,
     "metadata": {},
     "output_type": "execute_result"
    }
   ],
   "source": [
    "instalaciones_deportivas"
   ]
  },
  {
   "cell_type": "code",
   "execution_count": 121,
   "id": "6f83505e",
   "metadata": {},
   "outputs": [
    {
     "data": {
      "text/html": [
       "<div>\n",
       "<style scoped>\n",
       "    .dataframe tbody tr th:only-of-type {\n",
       "        vertical-align: middle;\n",
       "    }\n",
       "\n",
       "    .dataframe tbody tr th {\n",
       "        vertical-align: top;\n",
       "    }\n",
       "\n",
       "    .dataframe thead th {\n",
       "        text-align: right;\n",
       "    }\n",
       "</style>\n",
       "<table border=\"1\" class=\"dataframe\">\n",
       "  <thead>\n",
       "    <tr style=\"text-align: right;\">\n",
       "      <th></th>\n",
       "      <th>DISTRITO</th>\n",
       "      <th>N_GIMNASIOS</th>\n",
       "    </tr>\n",
       "  </thead>\n",
       "  <tbody>\n",
       "    <tr>\n",
       "      <th>0</th>\n",
       "      <td>ARGANZUELA</td>\n",
       "      <td>16</td>\n",
       "    </tr>\n",
       "    <tr>\n",
       "      <th>1</th>\n",
       "      <td>BARAJAS</td>\n",
       "      <td>18</td>\n",
       "    </tr>\n",
       "    <tr>\n",
       "      <th>2</th>\n",
       "      <td>CARABANCHEL</td>\n",
       "      <td>35</td>\n",
       "    </tr>\n",
       "    <tr>\n",
       "      <th>3</th>\n",
       "      <td>CENTRO</td>\n",
       "      <td>11</td>\n",
       "    </tr>\n",
       "    <tr>\n",
       "      <th>4</th>\n",
       "      <td>CHAMARTIN</td>\n",
       "      <td>17</td>\n",
       "    </tr>\n",
       "    <tr>\n",
       "      <th>5</th>\n",
       "      <td>CHAMBERI</td>\n",
       "      <td>2</td>\n",
       "    </tr>\n",
       "    <tr>\n",
       "      <th>6</th>\n",
       "      <td>CIUDAD LINEAL</td>\n",
       "      <td>27</td>\n",
       "    </tr>\n",
       "    <tr>\n",
       "      <th>7</th>\n",
       "      <td>DISTRITO</td>\n",
       "      <td>12</td>\n",
       "    </tr>\n",
       "    <tr>\n",
       "      <th>8</th>\n",
       "      <td>FUENCARRAL-EL PARDO</td>\n",
       "      <td>46</td>\n",
       "    </tr>\n",
       "    <tr>\n",
       "      <th>9</th>\n",
       "      <td>HORTALEZA</td>\n",
       "      <td>65</td>\n",
       "    </tr>\n",
       "    <tr>\n",
       "      <th>10</th>\n",
       "      <td>LATINA</td>\n",
       "      <td>32</td>\n",
       "    </tr>\n",
       "    <tr>\n",
       "      <th>11</th>\n",
       "      <td>MONCLOA-ARAVACA</td>\n",
       "      <td>22</td>\n",
       "    </tr>\n",
       "    <tr>\n",
       "      <th>12</th>\n",
       "      <td>MORATALAZ</td>\n",
       "      <td>26</td>\n",
       "    </tr>\n",
       "    <tr>\n",
       "      <th>13</th>\n",
       "      <td>PUENTE DE VALLECAS</td>\n",
       "      <td>34</td>\n",
       "    </tr>\n",
       "    <tr>\n",
       "      <th>14</th>\n",
       "      <td>RETIRO</td>\n",
       "      <td>10</td>\n",
       "    </tr>\n",
       "    <tr>\n",
       "      <th>15</th>\n",
       "      <td>SALAMANCA</td>\n",
       "      <td>3</td>\n",
       "    </tr>\n",
       "    <tr>\n",
       "      <th>16</th>\n",
       "      <td>SAN BLAS-CANILLEJAS</td>\n",
       "      <td>24</td>\n",
       "    </tr>\n",
       "    <tr>\n",
       "      <th>17</th>\n",
       "      <td>TETUAN</td>\n",
       "      <td>9</td>\n",
       "    </tr>\n",
       "    <tr>\n",
       "      <th>18</th>\n",
       "      <td>USERA</td>\n",
       "      <td>36</td>\n",
       "    </tr>\n",
       "    <tr>\n",
       "      <th>19</th>\n",
       "      <td>VICALVARO</td>\n",
       "      <td>7</td>\n",
       "    </tr>\n",
       "    <tr>\n",
       "      <th>20</th>\n",
       "      <td>VILLA DE VALLECAS</td>\n",
       "      <td>31</td>\n",
       "    </tr>\n",
       "    <tr>\n",
       "      <th>21</th>\n",
       "      <td>VILLAVERDE</td>\n",
       "      <td>21</td>\n",
       "    </tr>\n",
       "  </tbody>\n",
       "</table>\n",
       "</div>"
      ],
      "text/plain": [
       "               DISTRITO  N_GIMNASIOS\n",
       "0            ARGANZUELA           16\n",
       "1               BARAJAS           18\n",
       "2           CARABANCHEL           35\n",
       "3                CENTRO           11\n",
       "4             CHAMARTIN           17\n",
       "5              CHAMBERI            2\n",
       "6         CIUDAD LINEAL           27\n",
       "7              DISTRITO           12\n",
       "8   FUENCARRAL-EL PARDO           46\n",
       "9             HORTALEZA           65\n",
       "10               LATINA           32\n",
       "11      MONCLOA-ARAVACA           22\n",
       "12            MORATALAZ           26\n",
       "13   PUENTE DE VALLECAS           34\n",
       "14               RETIRO           10\n",
       "15            SALAMANCA            3\n",
       "16  SAN BLAS-CANILLEJAS           24\n",
       "17               TETUAN            9\n",
       "18                USERA           36\n",
       "19            VICALVARO            7\n",
       "20    VILLA DE VALLECAS           31\n",
       "21           VILLAVERDE           21"
      ]
     },
     "execution_count": 121,
     "metadata": {},
     "output_type": "execute_result"
    }
   ],
   "source": [
    "gimnasios_distrito"
   ]
  },
  {
   "cell_type": "code",
   "execution_count": 122,
   "id": "b723bece",
   "metadata": {},
   "outputs": [
    {
     "data": {
      "text/html": [
       "<div>\n",
       "<style scoped>\n",
       "    .dataframe tbody tr th:only-of-type {\n",
       "        vertical-align: middle;\n",
       "    }\n",
       "\n",
       "    .dataframe tbody tr th {\n",
       "        vertical-align: top;\n",
       "    }\n",
       "\n",
       "    .dataframe thead th {\n",
       "        text-align: right;\n",
       "    }\n",
       "</style>\n",
       "<table border=\"1\" class=\"dataframe\">\n",
       "  <thead>\n",
       "    <tr style=\"text-align: right;\">\n",
       "      <th></th>\n",
       "      <th>DISTRITO</th>\n",
       "      <th>NOMBRE</th>\n",
       "    </tr>\n",
       "  </thead>\n",
       "  <tbody>\n",
       "    <tr>\n",
       "      <th>0</th>\n",
       "      <td>ARGANZUELA</td>\n",
       "      <td>16</td>\n",
       "    </tr>\n",
       "    <tr>\n",
       "      <th>1</th>\n",
       "      <td>BARAJAS</td>\n",
       "      <td>18</td>\n",
       "    </tr>\n",
       "    <tr>\n",
       "      <th>2</th>\n",
       "      <td>CARABANCHEL</td>\n",
       "      <td>35</td>\n",
       "    </tr>\n",
       "    <tr>\n",
       "      <th>3</th>\n",
       "      <td>CENTRO</td>\n",
       "      <td>11</td>\n",
       "    </tr>\n",
       "    <tr>\n",
       "      <th>4</th>\n",
       "      <td>CHAMARTIN</td>\n",
       "      <td>17</td>\n",
       "    </tr>\n",
       "    <tr>\n",
       "      <th>5</th>\n",
       "      <td>CHAMBERI</td>\n",
       "      <td>2</td>\n",
       "    </tr>\n",
       "    <tr>\n",
       "      <th>6</th>\n",
       "      <td>CIUDAD LINEAL</td>\n",
       "      <td>27</td>\n",
       "    </tr>\n",
       "    <tr>\n",
       "      <th>7</th>\n",
       "      <td>DISTRITO</td>\n",
       "      <td>12</td>\n",
       "    </tr>\n",
       "    <tr>\n",
       "      <th>8</th>\n",
       "      <td>FUENCARRAL-EL PARDO</td>\n",
       "      <td>46</td>\n",
       "    </tr>\n",
       "    <tr>\n",
       "      <th>9</th>\n",
       "      <td>HORTALEZA</td>\n",
       "      <td>65</td>\n",
       "    </tr>\n",
       "    <tr>\n",
       "      <th>10</th>\n",
       "      <td>LATINA</td>\n",
       "      <td>32</td>\n",
       "    </tr>\n",
       "    <tr>\n",
       "      <th>11</th>\n",
       "      <td>MONCLOA-ARAVACA</td>\n",
       "      <td>22</td>\n",
       "    </tr>\n",
       "    <tr>\n",
       "      <th>12</th>\n",
       "      <td>MORATALAZ</td>\n",
       "      <td>26</td>\n",
       "    </tr>\n",
       "    <tr>\n",
       "      <th>13</th>\n",
       "      <td>PUENTE DE VALLECAS</td>\n",
       "      <td>34</td>\n",
       "    </tr>\n",
       "    <tr>\n",
       "      <th>14</th>\n",
       "      <td>RETIRO</td>\n",
       "      <td>10</td>\n",
       "    </tr>\n",
       "    <tr>\n",
       "      <th>15</th>\n",
       "      <td>SALAMANCA</td>\n",
       "      <td>3</td>\n",
       "    </tr>\n",
       "    <tr>\n",
       "      <th>16</th>\n",
       "      <td>SAN BLAS-CANILLEJAS</td>\n",
       "      <td>24</td>\n",
       "    </tr>\n",
       "    <tr>\n",
       "      <th>17</th>\n",
       "      <td>TETUAN</td>\n",
       "      <td>9</td>\n",
       "    </tr>\n",
       "    <tr>\n",
       "      <th>18</th>\n",
       "      <td>USERA</td>\n",
       "      <td>36</td>\n",
       "    </tr>\n",
       "    <tr>\n",
       "      <th>19</th>\n",
       "      <td>VICALVARO</td>\n",
       "      <td>7</td>\n",
       "    </tr>\n",
       "    <tr>\n",
       "      <th>20</th>\n",
       "      <td>VILLA DE VALLECAS</td>\n",
       "      <td>31</td>\n",
       "    </tr>\n",
       "    <tr>\n",
       "      <th>21</th>\n",
       "      <td>VILLAVERDE</td>\n",
       "      <td>21</td>\n",
       "    </tr>\n",
       "  </tbody>\n",
       "</table>\n",
       "</div>"
      ],
      "text/plain": [
       "               DISTRITO  NOMBRE\n",
       "0            ARGANZUELA      16\n",
       "1               BARAJAS      18\n",
       "2           CARABANCHEL      35\n",
       "3                CENTRO      11\n",
       "4             CHAMARTIN      17\n",
       "5              CHAMBERI       2\n",
       "6         CIUDAD LINEAL      27\n",
       "7              DISTRITO      12\n",
       "8   FUENCARRAL-EL PARDO      46\n",
       "9             HORTALEZA      65\n",
       "10               LATINA      32\n",
       "11      MONCLOA-ARAVACA      22\n",
       "12            MORATALAZ      26\n",
       "13   PUENTE DE VALLECAS      34\n",
       "14               RETIRO      10\n",
       "15            SALAMANCA       3\n",
       "16  SAN BLAS-CANILLEJAS      24\n",
       "17               TETUAN       9\n",
       "18                USERA      36\n",
       "19            VICALVARO       7\n",
       "20    VILLA DE VALLECAS      31\n",
       "21           VILLAVERDE      21"
      ]
     },
     "execution_count": 122,
     "metadata": {},
     "output_type": "execute_result"
    }
   ],
   "source": [
    "df_instalaciones_por_distrito"
   ]
  },
  {
   "cell_type": "code",
   "execution_count": 123,
   "id": "8073913d",
   "metadata": {},
   "outputs": [],
   "source": [
    "import geopandas as gpd\n",
    "from shapely.geometry import Point\n",
    "\n",
    "gdf_instalaciones1 = gpd.GeoDataFrame(\n",
    "    instalaciones_deportivas,\n",
    "    geometry=gpd.points_from_xy(instalaciones_deportivas['LONGITUD'], instalaciones_deportivas['LATITUD']),\n",
    "    crs=\"EPSG:4326\"\n",
    ")"
   ]
  },
  {
   "cell_type": "code",
   "execution_count": 124,
   "id": "34a64aef",
   "metadata": {},
   "outputs": [
    {
     "name": "stdout",
     "output_type": "stream",
     "text": [
      "None\n"
     ]
    }
   ],
   "source": [
    "gdf_distritos = gpd.read_file(\"C:\\\\Users\\\\Poltatil\\\\Downloads\\\\Distritos.json\")\n",
    "\n",
    "# Asegurar que tiene CRS\n",
    "print(gdf_distritos.crs)"
   ]
  },
  {
   "cell_type": "code",
   "execution_count": 125,
   "id": "e58f3102",
   "metadata": {},
   "outputs": [
    {
     "data": {
      "text/html": [
       "<div>\n",
       "<style scoped>\n",
       "    .dataframe tbody tr th:only-of-type {\n",
       "        vertical-align: middle;\n",
       "    }\n",
       "\n",
       "    .dataframe tbody tr th {\n",
       "        vertical-align: top;\n",
       "    }\n",
       "\n",
       "    .dataframe thead th {\n",
       "        text-align: right;\n",
       "    }\n",
       "</style>\n",
       "<table border=\"1\" class=\"dataframe\">\n",
       "  <thead>\n",
       "    <tr style=\"text-align: right;\">\n",
       "      <th></th>\n",
       "      <th>id</th>\n",
       "      <th>Shape_Leng</th>\n",
       "      <th>Shape_Area</th>\n",
       "      <th>COD_DIS</th>\n",
       "      <th>COD_DIS_TX</th>\n",
       "      <th>NOMBRE</th>\n",
       "      <th>DISTRI_MAY</th>\n",
       "      <th>DISTRI_MT</th>\n",
       "      <th>FCH_ALTA</th>\n",
       "      <th>FCH_BAJA</th>\n",
       "      <th>OBSERVACIO</th>\n",
       "      <th>ACUERDO</th>\n",
       "      <th>geometry</th>\n",
       "    </tr>\n",
       "  </thead>\n",
       "  <tbody>\n",
       "    <tr>\n",
       "      <th>0</th>\n",
       "      <td>None</td>\n",
       "      <td>10304.082346</td>\n",
       "      <td>5.228246e+06</td>\n",
       "      <td>1</td>\n",
       "      <td>01</td>\n",
       "      <td>Centro</td>\n",
       "      <td>CENTRO</td>\n",
       "      <td>CENTRO</td>\n",
       "      <td>None</td>\n",
       "      <td>None</td>\n",
       "      <td>None</td>\n",
       "      <td>None</td>\n",
       "      <td>POLYGON ((-3.72295 40.414, -3.72285 40.41534, ...</td>\n",
       "    </tr>\n",
       "    <tr>\n",
       "      <th>1</th>\n",
       "      <td>None</td>\n",
       "      <td>12806.765287</td>\n",
       "      <td>6.462176e+06</td>\n",
       "      <td>2</td>\n",
       "      <td>02</td>\n",
       "      <td>Arganzuela</td>\n",
       "      <td>ARGANZUELA</td>\n",
       "      <td>ARGANZUELA</td>\n",
       "      <td>None</td>\n",
       "      <td>None</td>\n",
       "      <td>None</td>\n",
       "      <td>None</td>\n",
       "      <td>POLYGON ((-3.69184 40.40845, -3.69149 40.40816...</td>\n",
       "    </tr>\n",
       "    <tr>\n",
       "      <th>2</th>\n",
       "      <td>None</td>\n",
       "      <td>9523.887357</td>\n",
       "      <td>5.466211e+06</td>\n",
       "      <td>3</td>\n",
       "      <td>03</td>\n",
       "      <td>Retiro</td>\n",
       "      <td>RETIRO</td>\n",
       "      <td>RETIRO</td>\n",
       "      <td>None</td>\n",
       "      <td>None</td>\n",
       "      <td>None</td>\n",
       "      <td>None</td>\n",
       "      <td>POLYGON ((-3.66521 40.40635, -3.66556 40.40557...</td>\n",
       "    </tr>\n",
       "    <tr>\n",
       "      <th>3</th>\n",
       "      <td>None</td>\n",
       "      <td>10866.335995</td>\n",
       "      <td>5.392404e+06</td>\n",
       "      <td>4</td>\n",
       "      <td>04</td>\n",
       "      <td>Salamanca</td>\n",
       "      <td>SALAMANCA</td>\n",
       "      <td>SALAMANCA</td>\n",
       "      <td>None</td>\n",
       "      <td>None</td>\n",
       "      <td>None</td>\n",
       "      <td>None</td>\n",
       "      <td>POLYGON ((-3.6587 40.41868, -3.66292 40.41967,...</td>\n",
       "    </tr>\n",
       "    <tr>\n",
       "      <th>4</th>\n",
       "      <td>None</td>\n",
       "      <td>13396.817759</td>\n",
       "      <td>9.175482e+06</td>\n",
       "      <td>5</td>\n",
       "      <td>05</td>\n",
       "      <td>Chamartín</td>\n",
       "      <td>CHAMARTIN</td>\n",
       "      <td>CHAMARTÍN</td>\n",
       "      <td>None</td>\n",
       "      <td>None</td>\n",
       "      <td>None</td>\n",
       "      <td>None</td>\n",
       "      <td>POLYGON ((-3.6606 40.44461, -3.66265 40.4439, ...</td>\n",
       "    </tr>\n",
       "    <tr>\n",
       "      <th>5</th>\n",
       "      <td>None</td>\n",
       "      <td>9919.063144</td>\n",
       "      <td>5.374725e+06</td>\n",
       "      <td>6</td>\n",
       "      <td>06</td>\n",
       "      <td>Tetuán</td>\n",
       "      <td>TETUAN</td>\n",
       "      <td>TETUÁN</td>\n",
       "      <td>None</td>\n",
       "      <td>None</td>\n",
       "      <td>None</td>\n",
       "      <td>None</td>\n",
       "      <td>POLYGON ((-3.68712 40.47415, -3.68754 40.47266...</td>\n",
       "    </tr>\n",
       "    <tr>\n",
       "      <th>6</th>\n",
       "      <td>None</td>\n",
       "      <td>9019.544152</td>\n",
       "      <td>4.679185e+06</td>\n",
       "      <td>7</td>\n",
       "      <td>07</td>\n",
       "      <td>Chamberí</td>\n",
       "      <td>CHAMBERI</td>\n",
       "      <td>CHAMBERÍ</td>\n",
       "      <td>None</td>\n",
       "      <td>None</td>\n",
       "      <td>None</td>\n",
       "      <td>None</td>\n",
       "      <td>POLYGON ((-3.69126 40.44622, -3.69179 40.44126...</td>\n",
       "    </tr>\n",
       "    <tr>\n",
       "      <th>7</th>\n",
       "      <td>None</td>\n",
       "      <td>94480.909361</td>\n",
       "      <td>2.378383e+08</td>\n",
       "      <td>8</td>\n",
       "      <td>08</td>\n",
       "      <td>Fuencarral - El Pardo</td>\n",
       "      <td>FUENCARRAL - EL PARDO</td>\n",
       "      <td>FUENCARRAL - EL PARDO</td>\n",
       "      <td>None</td>\n",
       "      <td>None</td>\n",
       "      <td>None</td>\n",
       "      <td>None</td>\n",
       "      <td>POLYGON ((-3.65761 40.51178, -3.65761 40.51178...</td>\n",
       "    </tr>\n",
       "    <tr>\n",
       "      <th>8</th>\n",
       "      <td>None</td>\n",
       "      <td>41016.912066</td>\n",
       "      <td>4.658695e+07</td>\n",
       "      <td>9</td>\n",
       "      <td>09</td>\n",
       "      <td>Moncloa - Aravaca</td>\n",
       "      <td>MONCLOA - ARAVACA</td>\n",
       "      <td>MONCLOA - ARAVACA</td>\n",
       "      <td>None</td>\n",
       "      <td>None</td>\n",
       "      <td>None</td>\n",
       "      <td>None</td>\n",
       "      <td>POLYGON ((-3.71328 40.46851, -3.71277 40.46801...</td>\n",
       "    </tr>\n",
       "    <tr>\n",
       "      <th>9</th>\n",
       "      <td>None</td>\n",
       "      <td>28142.972535</td>\n",
       "      <td>2.541039e+07</td>\n",
       "      <td>10</td>\n",
       "      <td>10</td>\n",
       "      <td>Latina</td>\n",
       "      <td>LATINA</td>\n",
       "      <td>LATINA</td>\n",
       "      <td>None</td>\n",
       "      <td>None</td>\n",
       "      <td>None</td>\n",
       "      <td>None</td>\n",
       "      <td>POLYGON ((-3.72268 40.40456, -3.72356 40.40457...</td>\n",
       "    </tr>\n",
       "    <tr>\n",
       "      <th>10</th>\n",
       "      <td>None</td>\n",
       "      <td>18083.304616</td>\n",
       "      <td>1.404832e+07</td>\n",
       "      <td>11</td>\n",
       "      <td>11</td>\n",
       "      <td>Carabanchel</td>\n",
       "      <td>CARABANCHEL</td>\n",
       "      <td>CARABANCHEL</td>\n",
       "      <td>None</td>\n",
       "      <td>None</td>\n",
       "      <td>None</td>\n",
       "      <td>None</td>\n",
       "      <td>POLYGON ((-3.70464 40.39525, -3.7063 40.39328,...</td>\n",
       "    </tr>\n",
       "    <tr>\n",
       "      <th>11</th>\n",
       "      <td>None</td>\n",
       "      <td>11878.910136</td>\n",
       "      <td>7.777717e+06</td>\n",
       "      <td>12</td>\n",
       "      <td>12</td>\n",
       "      <td>Usera</td>\n",
       "      <td>USERA</td>\n",
       "      <td>USERA</td>\n",
       "      <td>None</td>\n",
       "      <td>None</td>\n",
       "      <td>None</td>\n",
       "      <td>None</td>\n",
       "      <td>POLYGON ((-3.68193 40.36127, -3.68316 40.3617,...</td>\n",
       "    </tr>\n",
       "    <tr>\n",
       "      <th>12</th>\n",
       "      <td>None</td>\n",
       "      <td>17263.772871</td>\n",
       "      <td>1.496861e+07</td>\n",
       "      <td>13</td>\n",
       "      <td>13</td>\n",
       "      <td>Puente de Vallecas</td>\n",
       "      <td>PUENTE DE VALLECAS</td>\n",
       "      <td>PUENTE DE VALLECAS</td>\n",
       "      <td>None</td>\n",
       "      <td>None</td>\n",
       "      <td>None</td>\n",
       "      <td>None</td>\n",
       "      <td>POLYGON ((-3.68193 40.36129, -3.68276 40.36336...</td>\n",
       "    </tr>\n",
       "    <tr>\n",
       "      <th>13</th>\n",
       "      <td>None</td>\n",
       "      <td>10814.072767</td>\n",
       "      <td>6.103168e+06</td>\n",
       "      <td>14</td>\n",
       "      <td>14</td>\n",
       "      <td>Moratalaz</td>\n",
       "      <td>MORATALAZ</td>\n",
       "      <td>MORATALAZ</td>\n",
       "      <td>None</td>\n",
       "      <td>None</td>\n",
       "      <td>None</td>\n",
       "      <td>None</td>\n",
       "      <td>POLYGON ((-3.62038 40.41308, -3.62395 40.40621...</td>\n",
       "    </tr>\n",
       "    <tr>\n",
       "      <th>14</th>\n",
       "      <td>None</td>\n",
       "      <td>21524.699337</td>\n",
       "      <td>1.142568e+07</td>\n",
       "      <td>15</td>\n",
       "      <td>15</td>\n",
       "      <td>Ciudad Lineal</td>\n",
       "      <td>CIUDAD LINEAL</td>\n",
       "      <td>CIUDAD LINEAL</td>\n",
       "      <td>None</td>\n",
       "      <td>None</td>\n",
       "      <td>None</td>\n",
       "      <td>None</td>\n",
       "      <td>POLYGON ((-3.62037 40.41309, -3.62137 40.41307...</td>\n",
       "    </tr>\n",
       "    <tr>\n",
       "      <th>15</th>\n",
       "      <td>None</td>\n",
       "      <td>27366.863314</td>\n",
       "      <td>2.762398e+07</td>\n",
       "      <td>16</td>\n",
       "      <td>16</td>\n",
       "      <td>Hortaleza</td>\n",
       "      <td>HORTALEZA</td>\n",
       "      <td>HORTALEZA</td>\n",
       "      <td>None</td>\n",
       "      <td>None</td>\n",
       "      <td>None</td>\n",
       "      <td>None</td>\n",
       "      <td>POLYGON ((-3.60186 40.50148, -3.60187 40.50041...</td>\n",
       "    </tr>\n",
       "    <tr>\n",
       "      <th>16</th>\n",
       "      <td>None</td>\n",
       "      <td>18370.599009</td>\n",
       "      <td>2.019432e+07</td>\n",
       "      <td>17</td>\n",
       "      <td>17</td>\n",
       "      <td>Villaverde</td>\n",
       "      <td>VILLAVERDE</td>\n",
       "      <td>VILLAVERDE</td>\n",
       "      <td>None</td>\n",
       "      <td>None</td>\n",
       "      <td>None</td>\n",
       "      <td>None</td>\n",
       "      <td>POLYGON ((-3.6819 40.36127, -3.68149 40.36018,...</td>\n",
       "    </tr>\n",
       "    <tr>\n",
       "      <th>17</th>\n",
       "      <td>None</td>\n",
       "      <td>33498.398876</td>\n",
       "      <td>5.145375e+07</td>\n",
       "      <td>18</td>\n",
       "      <td>18</td>\n",
       "      <td>Villa de Vallecas</td>\n",
       "      <td>VILLA DE VALLECAS</td>\n",
       "      <td>VILLA DE VALLECAS</td>\n",
       "      <td>None</td>\n",
       "      <td>None</td>\n",
       "      <td>None</td>\n",
       "      <td>None</td>\n",
       "      <td>POLYGON ((-3.55343 40.35583, -3.55469 40.35435...</td>\n",
       "    </tr>\n",
       "    <tr>\n",
       "      <th>18</th>\n",
       "      <td>None</td>\n",
       "      <td>34269.621985</td>\n",
       "      <td>3.526274e+07</td>\n",
       "      <td>19</td>\n",
       "      <td>19</td>\n",
       "      <td>Vicálvaro</td>\n",
       "      <td>VICALVARO</td>\n",
       "      <td>VICÁLVARO</td>\n",
       "      <td>None</td>\n",
       "      <td>None</td>\n",
       "      <td>None</td>\n",
       "      <td>None</td>\n",
       "      <td>POLYGON ((-3.55348 40.35579, -3.5537 40.35609,...</td>\n",
       "    </tr>\n",
       "    <tr>\n",
       "      <th>19</th>\n",
       "      <td>None</td>\n",
       "      <td>26767.796769</td>\n",
       "      <td>2.228989e+07</td>\n",
       "      <td>20</td>\n",
       "      <td>20</td>\n",
       "      <td>San Blas - Canillejas</td>\n",
       "      <td>SAN BLAS - CANILLEJAS</td>\n",
       "      <td>SAN BLAS - CANILLEJAS</td>\n",
       "      <td>None</td>\n",
       "      <td>None</td>\n",
       "      <td>None</td>\n",
       "      <td>None</td>\n",
       "      <td>POLYGON ((-3.53133 40.44709, -3.53114 40.44688...</td>\n",
       "    </tr>\n",
       "    <tr>\n",
       "      <th>20</th>\n",
       "      <td>None</td>\n",
       "      <td>29554.993824</td>\n",
       "      <td>4.171634e+07</td>\n",
       "      <td>21</td>\n",
       "      <td>21</td>\n",
       "      <td>Barajas</td>\n",
       "      <td>BARAJAS</td>\n",
       "      <td>BARAJAS</td>\n",
       "      <td>None</td>\n",
       "      <td>None</td>\n",
       "      <td>None</td>\n",
       "      <td>None</td>\n",
       "      <td>POLYGON ((-3.53134 40.44708, -3.53169 40.44699...</td>\n",
       "    </tr>\n",
       "  </tbody>\n",
       "</table>\n",
       "</div>"
      ],
      "text/plain": [
       "      id    Shape_Leng    Shape_Area COD_DIS COD_DIS_TX  \\\n",
       "0   None  10304.082346  5.228246e+06       1         01   \n",
       "1   None  12806.765287  6.462176e+06       2         02   \n",
       "2   None   9523.887357  5.466211e+06       3         03   \n",
       "3   None  10866.335995  5.392404e+06       4         04   \n",
       "4   None  13396.817759  9.175482e+06       5         05   \n",
       "5   None   9919.063144  5.374725e+06       6         06   \n",
       "6   None   9019.544152  4.679185e+06       7         07   \n",
       "7   None  94480.909361  2.378383e+08       8         08   \n",
       "8   None  41016.912066  4.658695e+07       9         09   \n",
       "9   None  28142.972535  2.541039e+07      10         10   \n",
       "10  None  18083.304616  1.404832e+07      11         11   \n",
       "11  None  11878.910136  7.777717e+06      12         12   \n",
       "12  None  17263.772871  1.496861e+07      13         13   \n",
       "13  None  10814.072767  6.103168e+06      14         14   \n",
       "14  None  21524.699337  1.142568e+07      15         15   \n",
       "15  None  27366.863314  2.762398e+07      16         16   \n",
       "16  None  18370.599009  2.019432e+07      17         17   \n",
       "17  None  33498.398876  5.145375e+07      18         18   \n",
       "18  None  34269.621985  3.526274e+07      19         19   \n",
       "19  None  26767.796769  2.228989e+07      20         20   \n",
       "20  None  29554.993824  4.171634e+07      21         21   \n",
       "\n",
       "                   NOMBRE             DISTRI_MAY              DISTRI_MT  \\\n",
       "0                  Centro                 CENTRO                 CENTRO   \n",
       "1              Arganzuela             ARGANZUELA             ARGANZUELA   \n",
       "2                  Retiro                 RETIRO                 RETIRO   \n",
       "3               Salamanca              SALAMANCA              SALAMANCA   \n",
       "4               Chamartín              CHAMARTIN              CHAMARTÍN   \n",
       "5                  Tetuán                 TETUAN                 TETUÁN   \n",
       "6                Chamberí               CHAMBERI               CHAMBERÍ   \n",
       "7   Fuencarral - El Pardo  FUENCARRAL - EL PARDO  FUENCARRAL - EL PARDO   \n",
       "8       Moncloa - Aravaca      MONCLOA - ARAVACA      MONCLOA - ARAVACA   \n",
       "9                  Latina                 LATINA                 LATINA   \n",
       "10            Carabanchel            CARABANCHEL            CARABANCHEL   \n",
       "11                  Usera                  USERA                  USERA   \n",
       "12     Puente de Vallecas     PUENTE DE VALLECAS     PUENTE DE VALLECAS   \n",
       "13              Moratalaz              MORATALAZ              MORATALAZ   \n",
       "14          Ciudad Lineal          CIUDAD LINEAL          CIUDAD LINEAL   \n",
       "15              Hortaleza              HORTALEZA              HORTALEZA   \n",
       "16             Villaverde             VILLAVERDE             VILLAVERDE   \n",
       "17      Villa de Vallecas      VILLA DE VALLECAS      VILLA DE VALLECAS   \n",
       "18              Vicálvaro              VICALVARO              VICÁLVARO   \n",
       "19  San Blas - Canillejas  SAN BLAS - CANILLEJAS  SAN BLAS - CANILLEJAS   \n",
       "20                Barajas                BARAJAS                BARAJAS   \n",
       "\n",
       "   FCH_ALTA FCH_BAJA OBSERVACIO ACUERDO  \\\n",
       "0      None     None       None    None   \n",
       "1      None     None       None    None   \n",
       "2      None     None       None    None   \n",
       "3      None     None       None    None   \n",
       "4      None     None       None    None   \n",
       "5      None     None       None    None   \n",
       "6      None     None       None    None   \n",
       "7      None     None       None    None   \n",
       "8      None     None       None    None   \n",
       "9      None     None       None    None   \n",
       "10     None     None       None    None   \n",
       "11     None     None       None    None   \n",
       "12     None     None       None    None   \n",
       "13     None     None       None    None   \n",
       "14     None     None       None    None   \n",
       "15     None     None       None    None   \n",
       "16     None     None       None    None   \n",
       "17     None     None       None    None   \n",
       "18     None     None       None    None   \n",
       "19     None     None       None    None   \n",
       "20     None     None       None    None   \n",
       "\n",
       "                                             geometry  \n",
       "0   POLYGON ((-3.72295 40.414, -3.72285 40.41534, ...  \n",
       "1   POLYGON ((-3.69184 40.40845, -3.69149 40.40816...  \n",
       "2   POLYGON ((-3.66521 40.40635, -3.66556 40.40557...  \n",
       "3   POLYGON ((-3.6587 40.41868, -3.66292 40.41967,...  \n",
       "4   POLYGON ((-3.6606 40.44461, -3.66265 40.4439, ...  \n",
       "5   POLYGON ((-3.68712 40.47415, -3.68754 40.47266...  \n",
       "6   POLYGON ((-3.69126 40.44622, -3.69179 40.44126...  \n",
       "7   POLYGON ((-3.65761 40.51178, -3.65761 40.51178...  \n",
       "8   POLYGON ((-3.71328 40.46851, -3.71277 40.46801...  \n",
       "9   POLYGON ((-3.72268 40.40456, -3.72356 40.40457...  \n",
       "10  POLYGON ((-3.70464 40.39525, -3.7063 40.39328,...  \n",
       "11  POLYGON ((-3.68193 40.36127, -3.68316 40.3617,...  \n",
       "12  POLYGON ((-3.68193 40.36129, -3.68276 40.36336...  \n",
       "13  POLYGON ((-3.62038 40.41308, -3.62395 40.40621...  \n",
       "14  POLYGON ((-3.62037 40.41309, -3.62137 40.41307...  \n",
       "15  POLYGON ((-3.60186 40.50148, -3.60187 40.50041...  \n",
       "16  POLYGON ((-3.6819 40.36127, -3.68149 40.36018,...  \n",
       "17  POLYGON ((-3.55343 40.35583, -3.55469 40.35435...  \n",
       "18  POLYGON ((-3.55348 40.35579, -3.5537 40.35609,...  \n",
       "19  POLYGON ((-3.53133 40.44709, -3.53114 40.44688...  \n",
       "20  POLYGON ((-3.53134 40.44708, -3.53169 40.44699...  "
      ]
     },
     "execution_count": 125,
     "metadata": {},
     "output_type": "execute_result"
    }
   ],
   "source": [
    "gdf_distritos.set_crs(epsg=4326, inplace=True)\n"
   ]
  },
  {
   "cell_type": "code",
   "execution_count": 126,
   "id": "bb7d39f2",
   "metadata": {},
   "outputs": [],
   "source": [
    "gdf_instalaciones3 = gpd.GeoDataFrame(\n",
    "    instalaciones_deportivas,\n",
    "    geometry=gpd.points_from_xy(instalaciones_deportivas['LONGITUD'], instalaciones_deportivas['LATITUD']),\n",
    "    crs=\"EPSG:4326\"\n",
    ")"
   ]
  },
  {
   "cell_type": "code",
   "execution_count": 127,
   "id": "5ec2604d",
   "metadata": {},
   "outputs": [],
   "source": [
    "gdf_distritos3 = gdf_distritos.to_crs(epsg=25830)\n",
    "gdf_instalaciones3 = gdf_instalaciones3.to_crs(epsg=25830)"
   ]
  },
  {
   "cell_type": "code",
   "execution_count": 128,
   "id": "81362fe0",
   "metadata": {},
   "outputs": [
    {
     "name": "stderr",
     "output_type": "stream",
     "text": [
      "C:\\Users\\Poltatil\\AppData\\Local\\Temp\\ipykernel_27636\\1962711845.py:1: UserWarning:\n",
      "\n",
      "CRS mismatch between the CRS of left geometries and the CRS of right geometries.\n",
      "Use `to_crs()` to reproject one of the input geometries to match the CRS of the other.\n",
      "\n",
      "Left CRS: EPSG:25830\n",
      "Right CRS: EPSG:4326\n",
      "\n",
      "\n"
     ]
    }
   ],
   "source": [
    "gdf_resultado = gpd.sjoin(gdf_instalaciones3, gdf_distritos, how=\"left\", predicate=\"within\")\n"
   ]
  },
  {
   "cell_type": "code",
   "execution_count": 129,
   "id": "58e88ef7",
   "metadata": {},
   "outputs": [],
   "source": [
    "gdf_resultado = gdf_resultado.dropna(axis=1, how='all')\n"
   ]
  },
  {
   "cell_type": "code",
   "execution_count": 130,
   "id": "5a7c9c86",
   "metadata": {},
   "outputs": [
    {
     "data": {
      "text/html": [
       "<div>\n",
       "<style scoped>\n",
       "    .dataframe tbody tr th:only-of-type {\n",
       "        vertical-align: middle;\n",
       "    }\n",
       "\n",
       "    .dataframe tbody tr th {\n",
       "        vertical-align: top;\n",
       "    }\n",
       "\n",
       "    .dataframe thead th {\n",
       "        text-align: right;\n",
       "    }\n",
       "</style>\n",
       "<table border=\"1\" class=\"dataframe\">\n",
       "  <thead>\n",
       "    <tr style=\"text-align: right;\">\n",
       "      <th></th>\n",
       "      <th>NOMBRE_left</th>\n",
       "      <th>DISTRITO</th>\n",
       "      <th>COD-DISTRITO</th>\n",
       "      <th>LATITUD</th>\n",
       "      <th>LONGITUD</th>\n",
       "      <th>geometry</th>\n",
       "    </tr>\n",
       "  </thead>\n",
       "  <tbody>\n",
       "    <tr>\n",
       "      <th>0</th>\n",
       "      <td>Instalación Deportiva  Básica Embalse de San Juan</td>\n",
       "      <td>VILLA DE VALLECAS</td>\n",
       "      <td>18.0</td>\n",
       "      <td>40.362643</td>\n",
       "      <td>-3.598148</td>\n",
       "      <td>POINT (449213.2 4468179.98)</td>\n",
       "    </tr>\n",
       "    <tr>\n",
       "      <th>1</th>\n",
       "      <td>Instalación Deportiva Básica Alto del Retiro</td>\n",
       "      <td>VILLA DE VALLECAS</td>\n",
       "      <td>18.0</td>\n",
       "      <td>40.367515</td>\n",
       "      <td>-3.588265</td>\n",
       "      <td>POINT (450056 4468715.118)</td>\n",
       "    </tr>\n",
       "    <tr>\n",
       "      <th>2</th>\n",
       "      <td>Instalación Deportiva Básica Avenida de Cerro ...</td>\n",
       "      <td>VILLA DE VALLECAS</td>\n",
       "      <td>18.0</td>\n",
       "      <td>40.368619</td>\n",
       "      <td>-3.618357</td>\n",
       "      <td>POINT (447502 4468855.118)</td>\n",
       "    </tr>\n",
       "    <tr>\n",
       "      <th>3</th>\n",
       "      <td>Instalación Deportiva Básica Avenida de las Su...</td>\n",
       "      <td>VILLA DE VALLECAS</td>\n",
       "      <td>18.0</td>\n",
       "      <td>40.370297</td>\n",
       "      <td>-3.612067</td>\n",
       "      <td>POINT (448037.26 4469037.69)</td>\n",
       "    </tr>\n",
       "    <tr>\n",
       "      <th>4</th>\n",
       "      <td>Instalación Deportiva Básica Avenida del Ensan...</td>\n",
       "      <td>VILLA DE VALLECAS</td>\n",
       "      <td>18.0</td>\n",
       "      <td>40.370297</td>\n",
       "      <td>-3.612067</td>\n",
       "      <td>POINT (448037.26 4469037.69)</td>\n",
       "    </tr>\n",
       "    <tr>\n",
       "      <th>...</th>\n",
       "      <td>...</td>\n",
       "      <td>...</td>\n",
       "      <td>...</td>\n",
       "      <td>...</td>\n",
       "      <td>...</td>\n",
       "      <td>...</td>\n",
       "    </tr>\n",
       "    <tr>\n",
       "      <th>499</th>\n",
       "      <td>Instalación Deportiva Municipal Rocódromo 'Roc...</td>\n",
       "      <td>CARABANCHEL</td>\n",
       "      <td>11.0</td>\n",
       "      <td>40.399273</td>\n",
       "      <td>-3.718824</td>\n",
       "      <td>POINT (439000 4472322.118)</td>\n",
       "    </tr>\n",
       "    <tr>\n",
       "      <th>500</th>\n",
       "      <td>Instalación deportiva municipal básica Campo d...</td>\n",
       "      <td>LATINA</td>\n",
       "      <td>10.0</td>\n",
       "      <td>40.397186</td>\n",
       "      <td>-3.751840</td>\n",
       "      <td>POINT (436196.25 4472113.85)</td>\n",
       "    </tr>\n",
       "    <tr>\n",
       "      <th>501</th>\n",
       "      <td>Parque Lineal UZI 0.06 Arroyofresno</td>\n",
       "      <td>FUENCARRAL-EL PARDO</td>\n",
       "      <td>8.0</td>\n",
       "      <td>40.487147</td>\n",
       "      <td>-3.732863</td>\n",
       "      <td>POINT (437889.6 4482085.92)</td>\n",
       "    </tr>\n",
       "    <tr>\n",
       "      <th>502</th>\n",
       "      <td>Pista de Patinaje Paco de Lucía</td>\n",
       "      <td>DISTRITO</td>\n",
       "      <td>NaN</td>\n",
       "      <td>40.385278</td>\n",
       "      <td>-3.764155</td>\n",
       "      <td>POINT (435139.7 4470801.02)</td>\n",
       "    </tr>\n",
       "    <tr>\n",
       "      <th>503</th>\n",
       "      <td>Pista de petanca Centro de Mayores La Vaguada</td>\n",
       "      <td>FUENCARRAL-EL PARDO</td>\n",
       "      <td>8.0</td>\n",
       "      <td>40.479033</td>\n",
       "      <td>-3.708264</td>\n",
       "      <td>POINT (439967.12 4481168.28)</td>\n",
       "    </tr>\n",
       "  </tbody>\n",
       "</table>\n",
       "<p>504 rows × 6 columns</p>\n",
       "</div>"
      ],
      "text/plain": [
       "                                           NOMBRE_left             DISTRITO  \\\n",
       "0    Instalación Deportiva  Básica Embalse de San Juan    VILLA DE VALLECAS   \n",
       "1         Instalación Deportiva Básica Alto del Retiro    VILLA DE VALLECAS   \n",
       "2    Instalación Deportiva Básica Avenida de Cerro ...    VILLA DE VALLECAS   \n",
       "3    Instalación Deportiva Básica Avenida de las Su...    VILLA DE VALLECAS   \n",
       "4    Instalación Deportiva Básica Avenida del Ensan...    VILLA DE VALLECAS   \n",
       "..                                                 ...                  ...   \n",
       "499  Instalación Deportiva Municipal Rocódromo 'Roc...          CARABANCHEL   \n",
       "500  Instalación deportiva municipal básica Campo d...               LATINA   \n",
       "501                Parque Lineal UZI 0.06 Arroyofresno  FUENCARRAL-EL PARDO   \n",
       "502                    Pista de Patinaje Paco de Lucía             DISTRITO   \n",
       "503      Pista de petanca Centro de Mayores La Vaguada  FUENCARRAL-EL PARDO   \n",
       "\n",
       "     COD-DISTRITO    LATITUD  LONGITUD                      geometry  \n",
       "0            18.0  40.362643 -3.598148   POINT (449213.2 4468179.98)  \n",
       "1            18.0  40.367515 -3.588265    POINT (450056 4468715.118)  \n",
       "2            18.0  40.368619 -3.618357    POINT (447502 4468855.118)  \n",
       "3            18.0  40.370297 -3.612067  POINT (448037.26 4469037.69)  \n",
       "4            18.0  40.370297 -3.612067  POINT (448037.26 4469037.69)  \n",
       "..            ...        ...       ...                           ...  \n",
       "499          11.0  40.399273 -3.718824    POINT (439000 4472322.118)  \n",
       "500          10.0  40.397186 -3.751840  POINT (436196.25 4472113.85)  \n",
       "501           8.0  40.487147 -3.732863   POINT (437889.6 4482085.92)  \n",
       "502           NaN  40.385278 -3.764155   POINT (435139.7 4470801.02)  \n",
       "503           8.0  40.479033 -3.708264  POINT (439967.12 4481168.28)  \n",
       "\n",
       "[504 rows x 6 columns]"
      ]
     },
     "execution_count": 130,
     "metadata": {},
     "output_type": "execute_result"
    }
   ],
   "source": [
    "gdf_resultado"
   ]
  },
  {
   "cell_type": "code",
   "execution_count": 131,
   "id": "228405a2",
   "metadata": {},
   "outputs": [],
   "source": [
    "estadisticas = gdf_resultado.groupby('DISTRITO').agg({\n",
    "    'NOMBRE_left': 'count',\n",
    "    'COD-DISTRITO': 'first'\n",
    "}).reset_index().rename(columns={'NOMBRE': 'NUM_INSTALACIONES'})"
   ]
  },
  {
   "cell_type": "code",
   "execution_count": 132,
   "id": "bcbeb120",
   "metadata": {},
   "outputs": [
    {
     "name": "stderr",
     "output_type": "stream",
     "text": [
      "C:\\Users\\Poltatil\\AppData\\Local\\Temp\\ipykernel_27636\\33247682.py:10: FutureWarning:\n",
      "\n",
      "\n",
      "\n",
      "Passing `palette` without assigning `hue` is deprecated and will be removed in v0.14.0. Assign the `y` variable to `hue` and set `legend=False` for the same effect.\n",
      "\n",
      "\n"
     ]
    },
    {
     "data": {
      "image/png": "[encoded data removed]",
      "text/plain": [
       "<Figure size 1200x800 with 1 Axes>"
      ]
     },
     "metadata": {},
     "output_type": "display_data"
    }
   ],
   "source": [
    "distrito_counts = gdf_resultado[\"DISTRITO\"].value_counts().sort_values(ascending=False)\n",
    "\n",
    "# Estilo de seaborn\n",
    "sns.set(style=\"whitegrid\")\n",
    "\n",
    "# Tamaño del gráfico\n",
    "plt.figure(figsize=(12, 8))\n",
    "\n",
    "# Gráfico de barras\n",
    "ax = sns.barplot(\n",
    "    x=distrito_counts.values,\n",
    "    y=distrito_counts.index,\n",
    "    palette=\"viridis\"\n",
    ")\n",
    "\n",
    "# Etiquetas\n",
    "plt.title(\"Número de instalaciones deportivas por distrito\", fontsize=16, weight='bold')\n",
    "plt.xlabel(\"Número de instalaciones\", fontsize=12)\n",
    "plt.ylabel(\"Distrito\", fontsize=12)\n",
    "\n",
    "# Mostrar valores en las barras\n",
    "for i, v in enumerate(distrito_counts.values):\n",
    "    ax.text(v + 1, i, str(v), color='black', va='center', fontsize=10)\n",
    "\n",
    "plt.tight_layout()\n",
    "plt.show()"
   ]
  },
  {
   "cell_type": "code",
   "execution_count": 133,
   "id": "d0a7e537",
   "metadata": {},
   "outputs": [
    {
     "name": "stderr",
     "output_type": "stream",
     "text": [
      "C:\\Users\\Poltatil\\AppData\\Local\\Temp\\ipykernel_27636\\748855652.py:1: SettingWithCopyWarning:\n",
      "\n",
      "\n",
      "A value is trying to be set on a copy of a slice from a DataFrame.\n",
      "Try using .loc[row_indexer,col_indexer] = value instead\n",
      "\n",
      "See the caveats in the documentation: https://pandas.pydata.org/pandas-docs/stable/user_guide/indexing.html#returning-a-view-versus-a-copy\n",
      "\n"
     ]
    }
   ],
   "source": [
    "poblacion_madrid['distrito'] = poblacion_madrid['distrito'].str.lower().str.strip()\n",
    "renta_distrito['DISTRITO'] = renta_distrito['DISTRITO'].str.lower().str.strip()\n",
    "gimnasios_distrito['DISTRITO'] = gimnasios_distrito['DISTRITO'].str.lower().str.strip()"
   ]
  },
  {
   "cell_type": "code",
   "execution_count": 134,
   "id": "b0af76ba",
   "metadata": {},
   "outputs": [],
   "source": [
    "renta_distrito.rename(columns={'DISTRITO': 'distrito'}, inplace=True)\n",
    "gimnasios_distrito.rename(columns={'DISTRITO': 'distrito'}, inplace=True)"
   ]
  },
  {
   "cell_type": "code",
   "execution_count": 135,
   "id": "12cfc6c6",
   "metadata": {},
   "outputs": [],
   "source": [
    "df = poblacion_madrid.merge(renta_distrito, on='distrito')\n",
    "df = df.merge(gimnasios_distrito, on='distrito')"
   ]
  },
  {
   "cell_type": "code",
   "execution_count": 136,
   "id": "6936a54b",
   "metadata": {},
   "outputs": [],
   "source": [
    "\n",
    "df_sorted = df.sort_values(\"distrito\")\n"
   ]
  },
  {
   "cell_type": "code",
   "execution_count": 137,
   "id": "e7f0f298",
   "metadata": {},
   "outputs": [
    {
     "data": {
      "application/vnd.plotly.v1+json": {
       "config": {
        "plotlyServerURL": "https://plot.ly"
       },
       "data": [
        {
         "hovertemplate": "Distrito: %{x}<br>Instalaciones: %{y}<extra></extra>",
         "marker": {
          "color": "darkorange"
         },
         "name": "Instalaciones Deportivas",
         "text": {
          "bdata": "AAAAAAAAMEAAAAAAAAAyQAAAAAAAgEFAAAAAAAAAJkAAAAAAAAA7QAAAAAAAAEdAAAAAAABAUEAAAAAAAABAQAAAAAAAADZAAAAAAAAAOkAAAAAAAABBQAAAAAAAACRAAAAAAAAACEAAAAAAAAA4QAAAAAAAAEJAAAAAAAAAP0AAAAAAAAA1QA==",
          "dtype": "f8"
         },
         "textposition": "outside",
         "type": "bar",
         "x": [
          "arganzuela",
          "barajas",
          "carabanchel",
          "centro",
          "ciudad lineal",
          "fuencarral-el pardo",
          "hortaleza",
          "latina",
          "moncloa-aravaca",
          "moratalaz",
          "puente de vallecas",
          "retiro",
          "salamanca",
          "san blas-canillejas",
          "usera",
          "villa de vallecas",
          "villaverde"
         ],
         "y": {
          "bdata": "EBIjCxsuQSAWGiIKAxgkHxU=",
          "dtype": "i1"
         }
        },
        {
         "hovertemplate": "Distrito: %{x}<br>Población: %{y:,}<extra></extra>",
         "line": {
          "color": "mediumpurple",
          "width": 4
         },
         "marker": {
          "size": 10
         },
         "mode": "lines+markers",
         "name": "Población",
         "type": "scatter",
         "x": [
          "arganzuela",
          "barajas",
          "carabanchel",
          "centro",
          "ciudad lineal",
          "fuencarral-el pardo",
          "hortaleza",
          "latina",
          "moncloa-aravaca",
          "moratalaz",
          "puente de vallecas",
          "retiro",
          "salamanca",
          "san blas-canillejas",
          "usera",
          "villa de vallecas",
          "villaverde"
         ],
         "y": {
          "bdata": "8tJNYpDcoED0/dR46XiFQAisHFpkUaxAsp3vp8ZtnkBaZDvfz+6nQG3n+6nxHKtAVg4tsh01pUA3iUFgZVWqQFK4HoXreJpAhxbZzveUlECq8dJN4i2qQJqZmZmZBZpACKwcWuQIoEDsUbgehYmhQMuhRbbzE59AexSuR+EPmUCWQ4tsZ/GgQA==",
          "dtype": "f8"
         },
         "yaxis": "y2"
        }
       ],
       "layout": {
        "height": 600,
        "legend": {
         "orientation": "h",
         "x": 0.85,
         "y": 1.15
        },
        "margin": {
         "t": 120
        },
        "template": {
         "data": {
          "bar": [
           {
            "error_x": {
             "color": "#2a3f5f"
            },
            "error_y": {
             "color": "#2a3f5f"
            },
            "marker": {
             "line": {
              "color": "white",
              "width": 0.5
             },
             "pattern": {
              "fillmode": "overlay",
              "size": 10,
              "solidity": 0.2
             }
            },
            "type": "bar"
           }
          ],
          "barpolar": [
           {
            "marker": {
             "line": {
              "color": "white",
              "width": 0.5
             },
             "pattern": {
              "fillmode": "overlay",
              "size": 10,
              "solidity": 0.2
             }
            },
            "type": "barpolar"
           }
          ],
          "carpet": [
           {
            "aaxis": {
             "endlinecolor": "#2a3f5f",
             "gridcolor": "#C8D4E3",
             "linecolor": "#C8D4E3",
             "minorgridcolor": "#C8D4E3",
             "startlinecolor": "#2a3f5f"
            },
            "baxis": {
             "endlinecolor": "#2a3f5f",
             "gridcolor": "#C8D4E3",
             "linecolor": "#C8D4E3",
             "minorgridcolor": "#C8D4E3",
             "startlinecolor": "#2a3f5f"
            },
            "type": "carpet"
           }
          ],
          "choropleth": [
           {
            "colorbar": {
             "outlinewidth": 0,
             "ticks": ""
            },
            "type": "choropleth"
           }
          ],
          "contour": [
           {
            "colorbar": {
             "outlinewidth": 0,
             "ticks": ""
            },
            "colorscale": [
             [
              0,
              "#0d0887"
             ],
             [
              0.1111111111111111,
              "#46039f"
             ],
             [
              0.2222222222222222,
              "#7201a8"
             ],
             [
              0.3333333333333333,
              "#9c179e"
             ],
             [
              0.4444444444444444,
              "#bd3786"
             ],
             [
              0.5555555555555556,
              "#d8576b"
             ],
             [
              0.6666666666666666,
              "#ed7953"
             ],
             [
              0.7777777777777778,
              "#fb9f3a"
             ],
             [
              0.8888888888888888,
              "#fdca26"
             ],
             [
              1,
              "#f0f921"
             ]
            ],
            "type": "contour"
           }
          ],
          "contourcarpet": [
           {
            "colorbar": {
             "outlinewidth": 0,
             "ticks": ""
            },
            "type": "contourcarpet"
           }
          ],
          "heatmap": [
           {
            "colorbar": {
             "outlinewidth": 0,
             "ticks": ""
            },
            "colorscale": [
             [
              0,
              "#0d0887"
             ],
             [
              0.1111111111111111,
              "#46039f"
             ],
             [
              0.2222222222222222,
              "#7201a8"
             ],
             [
              0.3333333333333333,
              "#9c179e"
             ],
             [
              0.4444444444444444,
              "#bd3786"
             ],
             [
              0.5555555555555556,
              "#d8576b"
             ],
             [
              0.6666666666666666,
              "#ed7953"
             ],
             [
              0.7777777777777778,
              "#fb9f3a"
             ],
             [
              0.8888888888888888,
              "#fdca26"
             ],
             [
              1,
              "#f0f921"
             ]
            ],
            "type": "heatmap"
           }
          ],
          "histogram": [
           {
            "marker": {
             "pattern": {
              "fillmode": "overlay",
              "size": 10,
              "solidity": 0.2
             }
            },
            "type": "histogram"
           }
          ],
          "histogram2d": [
           {
            "colorbar": {
             "outlinewidth": 0,
             "ticks": ""
            },
            "colorscale": [
             [
              0,
              "#0d0887"
             ],
             [
              0.1111111111111111,
              "#46039f"
             ],
             [
              0.2222222222222222,
              "#7201a8"
             ],
             [
              0.3333333333333333,
              "#9c179e"
             ],
             [
              0.4444444444444444,
              "#bd3786"
             ],
             [
              0.5555555555555556,
              "#d8576b"
             ],
             [
              0.6666666666666666,
              "#ed7953"
             ],
             [
              0.7777777777777778,
              "#fb9f3a"
             ],
             [
              0.8888888888888888,
              "#fdca26"
             ],
             [
              1,
              "#f0f921"
             ]
            ],
            "type": "histogram2d"
           }
          ],
          "histogram2dcontour": [
           {
            "colorbar": {
             "outlinewidth": 0,
             "ticks": ""
            },
            "colorscale": [
             [
              0,
              "#0d0887"
             ],
             [
              0.1111111111111111,
              "#46039f"
             ],
             [
              0.2222222222222222,
              "#7201a8"
             ],
             [
              0.3333333333333333,
              "#9c179e"
             ],
             [
              0.4444444444444444,
              "#bd3786"
             ],
             [
              0.5555555555555556,
              "#d8576b"
             ],
             [
              0.6666666666666666,
              "#ed7953"
             ],
             [
              0.7777777777777778,
              "#fb9f3a"
             ],
             [
              0.8888888888888888,
              "#fdca26"
             ],
             [
              1,
              "#f0f921"
             ]
            ],
            "type": "histogram2dcontour"
           }
          ],
          "mesh3d": [
           {
            "colorbar": {
             "outlinewidth": 0,
             "ticks": ""
            },
            "type": "mesh3d"
           }
          ],
          "parcoords": [
           {
            "line": {
             "colorbar": {
              "outlinewidth": 0,
              "ticks": ""
             }
            },
            "type": "parcoords"
           }
          ],
          "pie": [
           {
            "automargin": true,
            "type": "pie"
           }
          ],
          "scatter": [
           {
            "fillpattern": {
             "fillmode": "overlay",
             "size": 10,
             "solidity": 0.2
            },
            "type": "scatter"
           }
          ],
          "scatter3d": [
           {
            "line": {
             "colorbar": {
              "outlinewidth": 0,
              "ticks": ""
             }
            },
            "marker": {
             "colorbar": {
              "outlinewidth": 0,
              "ticks": ""
             }
            },
            "type": "scatter3d"
           }
          ],
          "scattercarpet": [
           {
            "marker": {
             "colorbar": {
              "outlinewidth": 0,
              "ticks": ""
             }
            },
            "type": "scattercarpet"
           }
          ],
          "scattergeo": [
           {
            "marker": {
             "colorbar": {
              "outlinewidth": 0,
              "ticks": ""
             }
            },
            "type": "scattergeo"
           }
          ],
          "scattergl": [
           {
            "marker": {
             "colorbar": {
              "outlinewidth": 0,
              "ticks": ""
             }
            },
            "type": "scattergl"
           }
          ],
          "scattermap": [
           {
            "marker": {
             "colorbar": {
              "outlinewidth": 0,
              "ticks": ""
             }
            },
            "type": "scattermap"
           }
          ],
          "scattermapbox": [
           {
            "marker": {
             "colorbar": {
              "outlinewidth": 0,
              "ticks": ""
             }
            },
            "type": "scattermapbox"
           }
          ],
          "scatterpolar": [
           {
            "marker": {
             "colorbar": {
              "outlinewidth": 0,
              "ticks": ""
             }
            },
            "type": "scatterpolar"
           }
          ],
          "scatterpolargl": [
           {
            "marker": {
             "colorbar": {
              "outlinewidth": 0,
              "ticks": ""
             }
            },
            "type": "scatterpolargl"
           }
          ],
          "scatterternary": [
           {
            "marker": {
             "colorbar": {
              "outlinewidth": 0,
              "ticks": ""
             }
            },
            "type": "scatterternary"
           }
          ],
          "surface": [
           {
            "colorbar": {
             "outlinewidth": 0,
             "ticks": ""
            },
            "colorscale": [
             [
              0,
              "#0d0887"
             ],
             [
              0.1111111111111111,
              "#46039f"
             ],
             [
              0.2222222222222222,
              "#7201a8"
             ],
             [
              0.3333333333333333,
              "#9c179e"
             ],
             [
              0.4444444444444444,
              "#bd3786"
             ],
             [
              0.5555555555555556,
              "#d8576b"
             ],
             [
              0.6666666666666666,
              "#ed7953"
             ],
             [
              0.7777777777777778,
              "#fb9f3a"
             ],
             [
              0.8888888888888888,
              "#fdca26"
             ],
             [
              1,
              "#f0f921"
             ]
            ],
            "type": "surface"
           }
          ],
          "table": [
           {
            "cells": {
             "fill": {
              "color": "#EBF0F8"
             },
             "line": {
              "color": "white"
             }
            },
            "header": {
             "fill": {
              "color": "#C8D4E3"
             },
             "line": {
              "color": "white"
             }
            },
            "type": "table"
           }
          ]
         },
         "layout": {
          "annotationdefaults": {
           "arrowcolor": "#2a3f5f",
           "arrowhead": 0,
           "arrowwidth": 1
          },
          "autotypenumbers": "strict",
          "coloraxis": {
           "colorbar": {
            "outlinewidth": 0,
            "ticks": ""
           }
          },
          "colorscale": {
           "diverging": [
            [
             0,
             "#8e0152"
            ],
            [
             0.1,
             "#c51b7d"
            ],
            [
             0.2,
             "#de77ae"
            ],
            [
             0.3,
             "#f1b6da"
            ],
            [
             0.4,
             "#fde0ef"
            ],
            [
             0.5,
             "#f7f7f7"
            ],
            [
             0.6,
             "#e6f5d0"
            ],
            [
             0.7,
             "#b8e186"
            ],
            [
             0.8,
             "#7fbc41"
            ],
            [
             0.9,
             "#4d9221"
            ],
            [
             1,
             "#276419"
            ]
           ],
           "sequential": [
            [
             0,
             "#0d0887"
            ],
            [
             0.1111111111111111,
             "#46039f"
            ],
            [
             0.2222222222222222,
             "#7201a8"
            ],
            [
             0.3333333333333333,
             "#9c179e"
            ],
            [
             0.4444444444444444,
             "#bd3786"
            ],
            [
             0.5555555555555556,
             "#d8576b"
            ],
            [
             0.6666666666666666,
             "#ed7953"
            ],
            [
             0.7777777777777778,
             "#fb9f3a"
            ],
            [
             0.8888888888888888,
             "#fdca26"
            ],
            [
             1,
             "#f0f921"
            ]
           ],
           "sequentialminus": [
            [
             0,
             "#0d0887"
            ],
            [
             0.1111111111111111,
             "#46039f"
            ],
            [
             0.2222222222222222,
             "#7201a8"
            ],
            [
             0.3333333333333333,
             "#9c179e"
            ],
            [
             0.4444444444444444,
             "#bd3786"
            ],
            [
             0.5555555555555556,
             "#d8576b"
            ],
            [
             0.6666666666666666,
             "#ed7953"
            ],
            [
             0.7777777777777778,
             "#fb9f3a"
            ],
            [
             0.8888888888888888,
             "#fdca26"
            ],
            [
             1,
             "#f0f921"
            ]
           ]
          },
          "colorway": [
           "#636efa",
           "#EF553B",
           "#00cc96",
           "#ab63fa",
           "#FFA15A",
           "#19d3f3",
           "#FF6692",
           "#B6E880",
           "#FF97FF",
           "#FECB52"
          ],
          "font": {
           "color": "#2a3f5f"
          },
          "geo": {
           "bgcolor": "white",
           "lakecolor": "white",
           "landcolor": "white",
           "showlakes": true,
           "showland": true,
           "subunitcolor": "#C8D4E3"
          },
          "hoverlabel": {
           "align": "left"
          },
          "hovermode": "closest",
          "mapbox": {
           "style": "light"
          },
          "paper_bgcolor": "white",
          "plot_bgcolor": "white",
          "polar": {
           "angularaxis": {
            "gridcolor": "#EBF0F8",
            "linecolor": "#EBF0F8",
            "ticks": ""
           },
           "bgcolor": "white",
           "radialaxis": {
            "gridcolor": "#EBF0F8",
            "linecolor": "#EBF0F8",
            "ticks": ""
           }
          },
          "scene": {
           "xaxis": {
            "backgroundcolor": "white",
            "gridcolor": "#DFE8F3",
            "gridwidth": 2,
            "linecolor": "#EBF0F8",
            "showbackground": true,
            "ticks": "",
            "zerolinecolor": "#EBF0F8"
           },
           "yaxis": {
            "backgroundcolor": "white",
            "gridcolor": "#DFE8F3",
            "gridwidth": 2,
            "linecolor": "#EBF0F8",
            "showbackground": true,
            "ticks": "",
            "zerolinecolor": "#EBF0F8"
           },
           "zaxis": {
            "backgroundcolor": "white",
            "gridcolor": "#DFE8F3",
            "gridwidth": 2,
            "linecolor": "#EBF0F8",
            "showbackground": true,
            "ticks": "",
            "zerolinecolor": "#EBF0F8"
           }
          },
          "shapedefaults": {
           "line": {
            "color": "#2a3f5f"
           }
          },
          "ternary": {
           "aaxis": {
            "gridcolor": "#DFE8F3",
            "linecolor": "#A2B1C6",
            "ticks": ""
           },
           "baxis": {
            "gridcolor": "#DFE8F3",
            "linecolor": "#A2B1C6",
            "ticks": ""
           },
           "bgcolor": "white",
           "caxis": {
            "gridcolor": "#DFE8F3",
            "linecolor": "#A2B1C6",
            "ticks": ""
           }
          },
          "title": {
           "x": 0.05
          },
          "xaxis": {
           "automargin": true,
           "gridcolor": "#EBF0F8",
           "linecolor": "#EBF0F8",
           "ticks": "",
           "title": {
            "standoff": 15
           },
           "zerolinecolor": "#EBF0F8",
           "zerolinewidth": 2
          },
          "yaxis": {
           "automargin": true,
           "gridcolor": "#EBF0F8",
           "linecolor": "#EBF0F8",
           "ticks": "",
           "title": {
            "standoff": 15
           },
           "zerolinecolor": "#EBF0F8",
           "zerolinewidth": 2
          }
         }
        },
        "title": {
         "font": {
          "size": 20
         },
         "text": "Comparativa Interactiva: Instalaciones Deportivas y Población por Distrito",
         "x": 0.5,
         "xanchor": "center"
        },
        "xaxis": {
         "tickangle": 45,
         "title": {
          "text": "Distrito"
         }
        },
        "yaxis": {
         "showgrid": true,
         "title": {
          "text": "Instalaciones Deportivas"
         },
         "zeroline": false
        },
        "yaxis2": {
         "overlaying": "y",
         "showgrid": false,
         "side": "right",
         "title": {
          "text": "Población"
         },
         "zeroline": false
        }
       }
      }
     },
     "metadata": {},
     "output_type": "display_data"
    }
   ],
   "source": [
    "#Hipotesis 1\n",
    "import plotly.graph_objects as go\n",
    "\n",
    "fig = go.Figure()\n",
    "\n",
    "# Barras: instalaciones deportivas\n",
    "fig.add_trace(go.Bar(\n",
    "    x=df_sorted['distrito'],\n",
    "    y=df_sorted['N_GIMNASIOS'],\n",
    "    name='Instalaciones Deportivas',\n",
    "    marker_color='darkorange',\n",
    "    text=df_sorted['N_GIMNASIOS'],\n",
    "    textposition='outside',\n",
    "    hovertemplate='Distrito: %{x}<br>Instalaciones: %{y}<extra></extra>'\n",
    "))\n",
    "\n",
    "# Línea: población\n",
    "fig.add_trace(go.Scatter(\n",
    "    x=df_sorted['distrito'],\n",
    "    y=df_sorted['num_personas'],\n",
    "    name='Población',\n",
    "    mode='lines+markers',\n",
    "    line=dict(color='mediumpurple', width=4),\n",
    "    marker=dict(size=10),\n",
    "    yaxis='y2',\n",
    "    hovertemplate='Distrito: %{x}<br>Población: %{y:,}<extra></extra>'  # Formato miles\n",
    "))\n",
    "\n",
    "# Layout y diseño\n",
    "fig.update_layout(\n",
    "    title={\n",
    "        'text': 'Comparativa Interactiva: Instalaciones Deportivas y Población por Distrito',\n",
    "        'x': 0.5,\n",
    "        'xanchor': 'center',\n",
    "        'font': dict(size=20)\n",
    "    },\n",
    "    xaxis=dict(title='Distrito', tickangle=45),\n",
    "    yaxis=dict(\n",
    "        title='Instalaciones Deportivas',\n",
    "        showgrid=True,\n",
    "        zeroline=False\n",
    "    ),\n",
    "    yaxis2=dict(\n",
    "        title='Población',\n",
    "        overlaying='y',\n",
    "        side='right',\n",
    "        showgrid=False,\n",
    "        zeroline=False\n",
    "    ),\n",
    "    legend=dict(x=0.85, y=1.15, orientation='h'),\n",
    "    margin=dict(t=120),\n",
    "    height=600,\n",
    "    template='plotly_white'\n",
    ")\n",
    "\n",
    "fig.show()"
   ]
  },
  {
   "cell_type": "code",
   "execution_count": 138,
   "id": "0162996a",
   "metadata": {},
   "outputs": [
    {
     "name": "stdout",
     "output_type": "stream",
     "text": [
      "Coeficiente de correlación: 0.504\n",
      "P-valor: 0.0392\n"
     ]
    }
   ],
   "source": [
    "from scipy.stats import pearsonr\n",
    "\n",
    "corr_coef, p_value = pearsonr(df['num_personas'], df['N_GIMNASIOS'])\n",
    "\n",
    "print(f\"Coeficiente de correlación: {corr_coef:.3f}\")\n",
    "print(f\"P-valor: {p_value:.4f}\")"
   ]
  },
  {
   "cell_type": "code",
   "execution_count": 139,
   "id": "ee5938f6",
   "metadata": {},
   "outputs": [
    {
     "data": {
      "image/png": "[encoded data removed]",
      "text/plain": [
       "<Figure size 1000x600 with 1 Axes>"
      ]
     },
     "metadata": {},
     "output_type": "display_data"
    }
   ],
   "source": [
    "#Hipótesis 2\n",
    "\n",
    "import matplotlib.pyplot as plt\n",
    "import seaborn as sns\n",
    "\n",
    "sns.set(style=\"whitegrid\")\n",
    "\n",
    "plt.figure(figsize=(10,6))\n",
    "sns.regplot(x='RENTA_PERSONA', y='N_GIMNASIOS', data=df,\n",
    "            scatter_kws={'s':70, 'alpha':0.7}, line_kws={'color':'red'})\n",
    "plt.title(f'Relación entre Renta per cápita y Número de Instalaciones\\nCoef. correlación: {corr_coef:.3f}, p-valor: {p_value:.4f}')\n",
    "plt.xlabel('Renta per cápita (€)')\n",
    "plt.ylabel('Número de instalaciones')\n",
    "plt.show()"
   ]
  },
  {
   "cell_type": "code",
   "execution_count": 140,
   "id": "43ad1dd1",
   "metadata": {},
   "outputs": [
    {
     "name": "stdout",
     "output_type": "stream",
     "text": [
      "Coeficiente de correlación: -0.400\n",
      "P-valor: 0.1113\n"
     ]
    }
   ],
   "source": [
    "from scipy.stats import pearsonr\n",
    "\n",
    "corr_coef, p_value = pearsonr(df['RENTA_PERSONA'], df['N_GIMNASIOS'])\n",
    "\n",
    "print(f\"Coeficiente de correlación: {corr_coef:.3f}\")\n",
    "print(f\"P-valor: {p_value:.4f}\")"
   ]
  },
  {
   "cell_type": "code",
   "execution_count": 141,
   "id": "6efd8327",
   "metadata": {},
   "outputs": [
    {
     "data": {
      "image/png": "[encoded data removed]",
      "text/plain": [
       "<Figure size 1200x800 with 2 Axes>"
      ]
     },
     "metadata": {},
     "output_type": "display_data"
    }
   ],
   "source": [
    "#Hipótesis 3\n",
    "\n",
    "import numpy as np\n",
    "\n",
    "corr_coef, p_value = pearsonr(df['num_personas'], df['N_GIMNASIOS'])\n",
    "\n",
    "sns.set(style=\"whitegrid\")\n",
    "plt.figure(figsize=(12,8))\n",
    "\n",
    "sizes = np.sqrt(df['RENTA_PERSONA']) * 3  \n",
    "\n",
    "scatter = plt.scatter(\n",
    "    df['num_personas'],\n",
    "    df['N_GIMNASIOS'],\n",
    "    s=sizes,\n",
    "    c=df['RENTA_PERSONA'],\n",
    "    cmap='RdYlGn',\n",
    "    alpha=0.7,\n",
    "    edgecolors='face', \n",
    "    linewidth=0.7,\n",
    "    marker='o'\n",
    ")\n",
    "\n",
    "plt.colorbar(scatter, label='Renta per cápita (€)')\n",
    "plt.title(f'Relación entre Población, Número de Instalaciones y Renta per cápita\\nCoef. correlación: {corr_coef:.3f}, p-valor: {p_value:.4f}')\n",
    "plt.xlabel('Población total')\n",
    "plt.ylabel('Número de instalaciones')\n",
    "\n",
    "for i, row in df.iterrows():\n",
    "    plt.text(row['num_personas']*1.01, row['N_GIMNASIOS']*1.01, row['distrito'], fontsize=8, alpha=0.7)\n",
    "\n",
    "plt.show()"
   ]
  },
  {
   "cell_type": "code",
   "execution_count": 142,
   "id": "509fc774",
   "metadata": {},
   "outputs": [
    {
     "name": "stdout",
     "output_type": "stream",
     "text": [
      "Coeficiente de correlación: 0.504\n",
      "P-valor: 0.0392\n"
     ]
    }
   ],
   "source": [
    "from scipy.stats import pearsonr\n",
    "\n",
    "corr_coef, p_value = pearsonr(df['num_personas'], df['N_GIMNASIOS'])\n",
    "\n",
    "print(f\"Coeficiente de correlación: {corr_coef:.3f}\")\n",
    "print(f\"P-valor: {p_value:.4f}\")"
   ]
  },
  {
   "cell_type": "code",
   "execution_count": 143,
   "id": "a70ad9b3",
   "metadata": {},
   "outputs": [],
   "source": [
    "df['instalaciones_por_hombre'] = df['N_GIMNASIOS'] / df['num_personas_hombres']\n",
    "df['instalaciones_por_mujer'] = df['N_GIMNASIOS'] / df['num_personas_mujeres']"
   ]
  },
  {
   "cell_type": "code",
   "execution_count": 144,
   "id": "3fbeeb98",
   "metadata": {},
   "outputs": [
    {
     "data": {
      "image/png": "[encoded data removed]",
      "text/plain": [
       "<Figure size 1200x600 with 1 Axes>"
      ]
     },
     "metadata": {},
     "output_type": "display_data"
    }
   ],
   "source": [
    "#Hipótesis 4\n",
    "\n",
    "import matplotlib.pyplot as plt\n",
    "import seaborn as sns\n",
    "\n",
    "sns.set(style=\"whitegrid\")\n",
    "\n",
    "plt.figure(figsize=(12,6))\n",
    "df_melt = df.melt(id_vars='distrito', value_vars=['instalaciones_por_hombre', 'instalaciones_por_mujer'],\n",
    "                  var_name='sexo', value_name='instalaciones_por_persona')\n",
    "\n",
    "sns.barplot(x='distrito', y='instalaciones_por_persona', hue='sexo', data=df_melt)\n",
    "plt.xticks(rotation=45)\n",
    "plt.title('Instalaciones deportivas por persona, según sexo y distrito')\n",
    "plt.ylabel('Instalaciones por persona')\n",
    "plt.xlabel('Distrito')\n",
    "plt.tight_layout()\n",
    "plt.show()"
   ]
  },
  {
   "cell_type": "code",
   "execution_count": 145,
   "id": "4967ab53",
   "metadata": {},
   "outputs": [
    {
     "name": "stdout",
     "output_type": "stream",
     "text": [
      "t-statistic: 7.159, p-value: 0.0000\n"
     ]
    }
   ],
   "source": [
    "from scipy.stats import ttest_rel\n",
    "\n",
    "t_stat, p_val = ttest_rel(df['instalaciones_por_hombre'], df['instalaciones_por_mujer'])\n",
    "print(f\"t-statistic: {t_stat:.3f}, p-value: {p_val:.4f}\")"
   ]
  },
  {
   "cell_type": "code",
   "execution_count": 146,
   "id": "ee53fc16",
   "metadata": {},
   "outputs": [
    {
     "name": "stdout",
     "output_type": "stream",
     "text": [
      "Media instalaciones por hombre: 0.0265266159628307\n",
      "Media instalaciones por mujer: 0.02367389953373327\n"
     ]
    }
   ],
   "source": [
    "print(\"Media instalaciones por hombre:\", df['instalaciones_por_hombre'].mean())\n",
    "print(\"Media instalaciones por mujer:\", df['instalaciones_por_mujer'].mean())"
   ]
  },
  {
   "cell_type": "code",
   "execution_count": 147,
   "id": "245f5f92",
   "metadata": {},
   "outputs": [],
   "source": [
    "### HASTA AQUÍ"
   ]
  }
 ],
 "metadata": {
  "kernelspec": {
   "display_name": "Python 3",
   "language": "python",
   "name": "python3"
  },
  "language_info": {
   "codemirror_mode": {
    "name": "ipython",
    "version": 3
   },
   "file_extension": ".py",
   "mimetype": "text/x-python",
   "name": "python",
   "nbconvert_exporter": "python",
   "pygments_lexer": "ipython3",
   "version": "3.10.11"
  }
 },
 "nbformat": 4,
 "nbformat_minor": 5
}
